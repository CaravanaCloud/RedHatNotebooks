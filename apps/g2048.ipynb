{
 "cells": [
  {
   "cell_type": "code",
   "execution_count": 11,
   "id": "ff1086a4",
   "metadata": {},
   "outputs": [
    {
     "name": "stdout",
     "output_type": "stream",
     "text": [
      "clusterrole.rbac.authorization.k8s.io/system:openshift:scc:privileged added: \"system:authenticated\"\n"
     ]
    }
   ],
   "source": [
    "# Adds privileged SCC to \n",
    "# TODO: Is there a more secure way to allow ?\n",
    "! oc adm policy add-scc-to-group privileged system:authenticated"
   ]
  },
  {
   "cell_type": "code",
   "execution_count": 12,
   "id": "cc7f3833-175b-4e0b-80c0-a679c1d46abb",
   "metadata": {},
   "outputs": [
    {
     "name": "stdout",
     "output_type": "stream",
     "text": [
      "deployment.apps/g2048 created\n",
      "service/g2048-service created\n",
      "route.route.openshift.io/g2048-route created\n"
     ]
    }
   ],
   "source": [
    "! oc apply -f g2048.yaml"
   ]
  },
  {
   "cell_type": "code",
   "execution_count": 14,
   "id": "946e4e47",
   "metadata": {},
   "outputs": [
    {
     "name": "stdout",
     "output_type": "stream",
     "text": [
      "NAME                         READY   STATUS    RESTARTS   AGE\n",
      "pod/g2048-67ff45f8d4-j75v2   1/1     Running   0          22s\n",
      "\n",
      "NAME                    TYPE           CLUSTER-IP     EXTERNAL-IP                                                                   PORT(S)        AGE\n",
      "service/g2048-service   LoadBalancer   172.30.61.78   a50fcffa540594e6bbaf36a0d2677d94-217561009.ap-northeast-1.elb.amazonaws.com   80:32333/TCP   23s\n",
      "\n",
      "NAME                    READY   UP-TO-DATE   AVAILABLE   AGE\n",
      "deployment.apps/g2048   1/1     1            1           24s\n",
      "\n",
      "NAME                               DESIRED   CURRENT   READY   AGE\n",
      "replicaset.apps/g2048-67ff45f8d4   1         1         1       24s\n",
      "\n",
      "NAME                                   HOST/PORT                                                   PATH   SERVICES        PORT    TERMINATION   WILDCARD\n",
      "route.route.openshift.io/g2048-route   g2048-route-rhnb.apps.rhnb-rosa.b1w6.p1.openshiftapps.com          g2048-service   <all>                 None\n"
     ]
    }
   ],
   "source": [
    "!oc get all"
   ]
  },
  {
   "cell_type": "code",
   "execution_count": 21,
   "id": "bf0a2677",
   "metadata": {},
   "outputs": [
    {
     "data": {
      "text/plain": [
       "'g2048-route-rhnb.apps.rhnb-rosa.b1w6.p1.openshiftapps.com'"
      ]
     },
     "execution_count": 21,
     "metadata": {},
     "output_type": "execute_result"
    }
   ],
   "source": [
    "# Get route \n",
    "endpoint=! oc get all -o json | jq -r '.items[] | select(.kind | contains(\"Route\")) | .spec.host'\n",
    "endpoint=endpoint.s\n",
    "endpoint"
   ]
  },
  {
   "cell_type": "code",
   "execution_count": 22,
   "id": "6dd4dace",
   "metadata": {},
   "outputs": [
    {
     "name": "stdout",
     "output_type": "stream",
     "text": [
      "<!DOCTYPE html>\n",
      "<html>\n",
      "<head>\n",
      "  <meta charset=\"utf-8\">\n",
      "  <title>2048</title>\n",
      "\n",
      "  <link href=\"style/main.css\" rel=\"stylesheet\" type=\"text/css\">\n",
      "  <link rel=\"shortcut icon\" href=\"favicon.ico\">\n",
      "  <link rel=\"apple-touch-icon\" href=\"meta/apple-touch-icon.png\">\n",
      "  <link rel=\"apple-touch-startup-image\" href=\"meta/apple-touch-startup-image-640x1096.png\" media=\"(device-width: 320px) and (device-height: 568px) and (-webkit-device-pixel-ratio: 2)\"> <!-- iPhone 5+ -->\n",
      "  <link rel=\"apple-touch-startup-image\" href=\"meta/apple-touch-startup-image-640x920.png\"  media=\"(device-width: 320px) and (device-height: 480px) and (-webkit-device-pixel-ratio: 2)\"> <!-- iPhone, retina -->\n",
      "  <meta name=\"apple-mobile-web-app-capable\" content=\"yes\">\n",
      "  <meta name=\"apple-mobile-web-app-status-bar-style\" content=\"black\">\n",
      "\n",
      "  <meta name=\"HandheldFriendly\" content=\"True\">\n",
      "  <meta name=\"MobileOptimized\" content=\"320\">\n",
      "  <meta name=\"viewport\" content=\"width=device-width, target-densitydpi=160dpi, initial-scale=1.0, maximum-scale=1, user-scalable=no, minimal-ui\">\n",
      "</head>\n",
      "<body>\n",
      "  <div class=\"container\">\n",
      "    <div class=\"heading\">\n",
      "      <h1 class=\"title\">2048</h1>\n",
      "      <div class=\"scores-container\">\n",
      "        <div class=\"score-container\">0</div>\n",
      "        <div class=\"best-container\">0</div>\n",
      "      </div>\n",
      "    </div>\n",
      "\n",
      "    <div class=\"above-game\">\n",
      "      <p class=\"game-intro\">Join the numbers and get to the <strong>2048 tile!</strong></p>\n",
      "      <a class=\"restart-button\">New Game</a>\n",
      "    </div>\n",
      "\n",
      "    <div class=\"game-container\">\n",
      "      <div class=\"game-message\">\n",
      "        <p></p>\n",
      "        <div class=\"lower\">\n",
      "\t        <a class=\"keep-playing-button\">Keep going</a>\n",
      "          <a class=\"retry-button\">Try again</a>\n",
      "        </div>\n",
      "      </div>\n",
      "\n",
      "      <div class=\"grid-container\">\n",
      "        <div class=\"grid-row\">\n",
      "          <div class=\"grid-cell\"></div>\n",
      "          <div class=\"grid-cell\"></div>\n",
      "          <div class=\"grid-cell\"></div>\n",
      "          <div class=\"grid-cell\"></div>\n",
      "        </div>\n",
      "        <div class=\"grid-row\">\n",
      "          <div class=\"grid-cell\"></div>\n",
      "          <div class=\"grid-cell\"></div>\n",
      "          <div class=\"grid-cell\"></div>\n",
      "          <div class=\"grid-cell\"></div>\n",
      "        </div>\n",
      "        <div class=\"grid-row\">\n",
      "          <div class=\"grid-cell\"></div>\n",
      "          <div class=\"grid-cell\"></div>\n",
      "          <div class=\"grid-cell\"></div>\n",
      "          <div class=\"grid-cell\"></div>\n",
      "        </div>\n",
      "        <div class=\"grid-row\">\n",
      "          <div class=\"grid-cell\"></div>\n",
      "          <div class=\"grid-cell\"></div>\n",
      "          <div class=\"grid-cell\"></div>\n",
      "          <div class=\"grid-cell\"></div>\n",
      "        </div>\n",
      "      </div>\n",
      "\n",
      "      <div class=\"tile-container\">\n",
      "\n",
      "      </div>\n",
      "    </div>\n",
      "\n",
      "    <p class=\"game-explanation\">\n",
      "      <strong class=\"important\">How to play:</strong> Use your <strong>arrow keys</strong> to move the tiles. When two tiles with the same number touch, they <strong>merge into one!</strong>\n",
      "    </p>\n",
      "    <hr>\n",
      "    <p>\n",
      "    <strong class=\"important\">Note:</strong> This site is the official version of 2048. You can play it on your phone via <a href=\"http://git.io/2048\">http://git.io/2048.</a> All other apps or sites are derivatives or fakes, and should be used with caution.\n",
      "    </p>\n",
      "    <hr>\n",
      "    <p>\n",
      "    Created by <a href=\"http://gabrielecirulli.com\" target=\"_blank\">Gabriele Cirulli.</a> Based on <a href=\"https://itunes.apple.com/us/app/1024!/id823499224\" target=\"_blank\">1024 by Veewo Studio</a> and conceptually similar to <a href=\"http://asherv.com/threes/\" target=\"_blank\">Threes by Asher Vollmer.</a>\n",
      "    </p>\n",
      "  </div>\n",
      "\n",
      "  <script src=\"js/bind_polyfill.js\"></script>\n",
      "  <script src=\"js/classlist_polyfill.js\"></script>\n",
      "  <script src=\"js/animframe_polyfill.js\"></script>\n",
      "  <script src=\"js/keyboard_input_manager.js\"></script>\n",
      "  <script src=\"js/html_actuator.js\"></script>\n",
      "  <script src=\"js/grid.js\"></script>\n",
      "  <script src=\"js/tile.js\"></script>\n",
      "  <script src=\"js/local_storage_manager.js\"></script>\n",
      "  <script src=\"js/game_manager.js\"></script>\n",
      "  <script src=\"js/application.js\"></script>\n",
      "</body>\n",
      "</html>\n"
     ]
    }
   ],
   "source": [
    "!curl {endpoint}"
   ]
  },
  {
   "cell_type": "code",
   "execution_count": null,
   "id": "9523f7bf",
   "metadata": {},
   "outputs": [],
   "source": [
    "# Clean Up"
   ]
  },
  {
   "cell_type": "code",
   "execution_count": 9,
   "id": "0dce1928-78a7-4cd5-aed7-095e521428bf",
   "metadata": {},
   "outputs": [
    {
     "name": "stdout",
     "output_type": "stream",
     "text": [
      "deployment.apps \"g2048\" deleted\n",
      "service \"g2048-service\" deleted\n",
      "route.route.openshift.io \"g2048-route\" deleted\n"
     ]
    }
   ],
   "source": [
    "! oc delete -f g2048.yaml"
   ]
  }
 ],
 "metadata": {
  "kernelspec": {
   "display_name": "Python 3 (ipykernel)",
   "language": "python",
   "name": "python3"
  },
  "language_info": {
   "codemirror_mode": {
    "name": "ipython",
    "version": 3
   },
   "file_extension": ".py",
   "mimetype": "text/x-python",
   "name": "python",
   "nbconvert_exporter": "python",
   "pygments_lexer": "ipython3",
   "version": "3.6.8"
  }
 },
 "nbformat": 4,
 "nbformat_minor": 5
}
