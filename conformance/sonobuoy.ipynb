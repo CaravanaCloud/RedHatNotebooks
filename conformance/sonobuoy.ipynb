{
 "cells": [
  {
   "cell_type": "code",
   "execution_count": 1,
   "metadata": {},
   "outputs": [
    {
     "name": "stdout",
     "output_type": "stream",
     "text": [
      "NAME                                              STATUS   ROLES          AGE   VERSION\n",
      "ip-10-0-163-246.ap-northeast-1.compute.internal   Ready    worker         66m   v1.22.3+e790d7f\n",
      "ip-10-0-186-103.ap-northeast-1.compute.internal   Ready    master         74m   v1.22.3+e790d7f\n",
      "ip-10-0-198-0.ap-northeast-1.compute.internal     Ready    master         74m   v1.22.3+e790d7f\n",
      "ip-10-0-218-50.ap-northeast-1.compute.internal    Ready    infra,worker   47m   v1.22.3+e790d7f\n",
      "ip-10-0-224-94.ap-northeast-1.compute.internal    Ready    worker         66m   v1.22.3+e790d7f\n",
      "ip-10-0-227-79.ap-northeast-1.compute.internal    Ready    master         74m   v1.22.3+e790d7f\n",
      "ip-10-0-230-130.ap-northeast-1.compute.internal   Ready    infra,worker   47m   v1.22.3+e790d7f\n"
     ]
    }
   ],
   "source": [
    "https://github.com/cncf/k8s-conformance/tree/master/v1.22/openshift-dedicated#running-conformance"
   ]
  },
  {
   "cell_type": "code",
   "execution_count": null,
   "metadata": {},
   "outputs": [],
   "source": [
    "oc adm policy add-scc-to-group privileged system:authenticated system:serviceaccounts\n",
    "oc adm policy add-scc-to-group anyuid system:authenticated system:serviceaccounts"
   ]
  },
  {
   "cell_type": "code",
   "execution_count": null,
   "metadata": {},
   "outputs": [],
   "source": [
    "kubectl edit validatingwebhookconfigurations.admissionregistration.k8s.io sre-namespace-validation\n"
   ]
  },
  {
   "cell_type": "code",
   "execution_count": null,
   "metadata": {},
   "outputs": [],
   "source": [
    "sonobuoy run --mode=certified-conformance \\\n",
    "    --dns-namespace=openshift-dns \\\n",
    "    --dns-pod-labels=dns.operator.openshift.io/daemonset-dns=default \\\n",
    "    --wait\n"
   ]
  },
  {
   "cell_type": "code",
   "execution_count": null,
   "metadata": {},
   "outputs": [],
   "source": [
    "! sonobuoy run --mode=quick --skip-preflight --wait"
   ]
  },
  {
   "cell_type": "code",
   "execution_count": null,
   "metadata": {},
   "outputs": [],
   "source": [
    "! sonobuoy run \\\n",
    "    --kubernetes-version \"auto\" \\\n",
    "    --mode quick"
   ]
  }
 ],
 "metadata": {
  "interpreter": {
   "hash": "31f2aee4e71d21fbe5cf8b01ff0e069b9275f58929596ceb00d14d90e3e16cd6"
  },
  "kernelspec": {
   "display_name": "",
   "language": "python",
   "name": "python3"
  },
  "language_info": {
   "codemirror_mode": {
    "name": "ipython",
    "version": 3
   },
   "file_extension": ".py",
   "mimetype": "text/x-python",
   "name": "python",
   "nbconvert_exporter": "python",
   "pygments_lexer": "ipython3",
   "version": "3.6.8"
  },
  "orig_nbformat": 4
 },
 "nbformat": 4,
 "nbformat_minor": 2
}
