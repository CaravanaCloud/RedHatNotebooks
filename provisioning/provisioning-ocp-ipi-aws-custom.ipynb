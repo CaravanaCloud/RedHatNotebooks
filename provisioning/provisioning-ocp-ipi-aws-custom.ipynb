{
 "cells": [
  {
   "cell_type": "code",
   "execution_count": 2,
   "id": "84d726cf",
   "metadata": {},
   "outputs": [
    {
     "data": {
      "text/plain": [
       "'rhnb-iawsc-99'"
      ]
     },
     "execution_count": 2,
     "metadata": {},
     "output_type": "execute_result"
    }
   ],
   "source": [
    "import random\n",
    "\n",
    "cluster_name=\"rhnb-iawsc-\" + str(random.randint(0,100))\n",
    "cluster_name"
   ]
  },
  {
   "cell_type": "code",
   "execution_count": 3,
   "id": "bc3dfe78-801f-412b-a0e0-d1fa689c2717",
   "metadata": {},
   "outputs": [
    {
     "name": "stdout",
     "output_type": "stream",
     "text": [
      "total 24K\n",
      "25189555 drwxr-xr-x.   2 jufaerma jufaerma   6 Feb 16 15:15 .\n",
      "25173592 drwxrwxrwt. 106 root     root     20K Feb 16 15:15 ..\n"
     ]
    },
    {
     "data": {
      "text/plain": [
       "'/tmp/install-rhnb-iawsc-99'"
      ]
     },
     "execution_count": 3,
     "metadata": {},
     "output_type": "execute_result"
    }
   ],
   "source": [
    "# Clear Install Dir\n",
    "install_dir=\"/tmp/install-\"+cluster_name\n",
    "! rm -rf {install_dir}\n",
    "! mkdir -p {install_dir}\n",
    "! ls -liah {install_dir}\n",
    "install_dir"
   ]
  },
  {
   "cell_type": "code",
   "execution_count": 4,
   "id": "1740bdc5-cc68-4610-b9ff-6de06ddc64e4",
   "metadata": {},
   "outputs": [
    {
     "name": "stdout",
     "output_type": "stream",
     "text": [
      "env: SSH_KEY=/tmp/install-rhnb-iawsc-99/sshkey\n",
      "-rw-------. 1 jufaerma jufaerma 419 Feb 16 15:15 /tmp/install-rhnb-iawsc-99/sshkey\n",
      "-rw-r--r--. 1 jufaerma jufaerma 110 Feb 16 15:15 /tmp/install-rhnb-iawsc-99/sshkey.pub\n"
     ]
    }
   ],
   "source": [
    "%env SSH_KEY {install_dir}/sshkey\n",
    "!rm -f \"$SSH_KEY\"\n",
    "!ssh-keygen -b \"2048\" -t \"ed25519\" -f \"$SSH_KEY\" -q -N \"\"\n",
    "!ls -l \"$SSH_KEY\"*"
   ]
  },
  {
   "cell_type": "code",
   "execution_count": 5,
   "id": "7c0d21bb",
   "metadata": {},
   "outputs": [
    {
     "data": {
      "text/plain": [
       "'info'"
      ]
     },
     "execution_count": 5,
     "metadata": {},
     "output_type": "execute_result"
    }
   ],
   "source": [
    "log_level=\"info\"\n",
    "log_level"
   ]
  },
  {
   "cell_type": "code",
   "execution_count": 6,
   "id": "7e3d450c",
   "metadata": {},
   "outputs": [
    {
     "name": "stdout",
     "output_type": "stream",
     "text": [
      "RUN ON TERMINAL: openshift-install create install-config --dir \"/tmp/install-rhnb-iawsc-99\"\n"
     ]
    }
   ],
   "source": [
    "# Run the outut command in a separate terminal\n",
    "# Generates install config based on input\n",
    "# TODO: Silent install\n",
    "! echo RUN ON TERMINAL: openshift-install create install-config --dir \\\"{install_dir}\\\""
   ]
  },
  {
   "cell_type": "code",
   "execution_count": 13,
   "id": "41ac2458",
   "metadata": {},
   "outputs": [
    {
     "name": "stdout",
     "output_type": "stream",
     "text": [
      "env: OCP_NAME=rhnb-iawsc-99\n",
      "apiVersion: v1\n",
      "baseDomain: devcluster.openshift.com\n",
      "compute:\n",
      "- architecture: amd64\n",
      "  hyperthreading: Enabled\n",
      "  name: worker\n",
      "  platform: \n",
      "    aws:\n",
      "      type: t3.large\n",
      "  replicas: 3\n",
      "controlPlane:\n",
      "  architecture: amd64\n",
      "  hyperthreading: Enabled\n",
      "  name: master\n",
      "  platform: \n",
      "    aws:\n",
      "      type: \n",
      "  replicas: 3\n",
      "metadata:\n",
      "  creationTimestamp: null\n",
      "  name: rhnb-iawsc-99\n",
      "networking: \n",
      "  clusterNetwork:\n",
      "  - cidr: 10.128.0.0/14\n",
      "    hostPrefix: 23\n"
     ]
    }
   ],
   "source": [
    "# Or use the template\n",
    "%env OCP_NAME {cluster_name}\n",
    "! envsubst < ./install_config.tpl.yaml > \"{install_dir}/install-config.yaml\"\n",
    "! head -n 25 \"{install_dir}/install-config.yaml\""
   ]
  },
  {
   "cell_type": "code",
   "execution_count": 14,
   "id": "cfba1cef-a5dc-445f-9930-f8c942894328",
   "metadata": {},
   "outputs": [
    {
     "name": "stdout",
     "output_type": "stream",
     "text": [
      "openshift-install create cluster --dir \"/tmp/install-rhnb-iawsc-99\" --log-level=info\n"
     ]
    }
   ],
   "source": [
    "# Create the cluster\n",
    "!  echo openshift-install create cluster --dir \\\"{install_dir}\\\" --log-level={log_level} | tee >(xsel -ib)"
   ]
  },
  {
   "cell_type": "code",
   "execution_count": null,
   "id": "0edb367a-88cc-4d76-8571-e419d24804a3",
   "metadata": {},
   "outputs": [],
   "source": [
    "! openshift-install help create cluster\n"
   ]
  },
  {
   "cell_type": "code",
   "execution_count": 24,
   "id": "58dabaab",
   "metadata": {},
   "outputs": [
    {
     "name": "stdout",
     "output_type": "stream",
     "text": [
      "openshift-install destroy cluster --dir \"/tmp/install-rhoan-ipi\" --log-level=info\n"
     ]
    }
   ],
   "source": [
    "# Cleanup Cluster\n",
    "! echo openshift-install destroy cluster --dir \\\"{install_dir}\\\" --log-level={log_level}\n"
   ]
  },
  {
   "cell_type": "code",
   "execution_count": 1,
   "id": "fe68ee87",
   "metadata": {},
   "outputs": [],
   "source": [
    "# Cleanup Install dir\n",
    "!rm -rf {install_dir}"
   ]
  },
  {
   "cell_type": "code",
   "execution_count": null,
   "id": "8e020434",
   "metadata": {},
   "outputs": [],
   "source": []
  }
 ],
 "metadata": {
  "kernelspec": {
   "display_name": "Python 3 (ipykernel)",
   "language": "python",
   "name": "python3"
  },
  "language_info": {
   "codemirror_mode": {
    "name": "ipython",
    "version": 3
   },
   "file_extension": ".py",
   "mimetype": "text/x-python",
   "name": "python",
   "nbconvert_exporter": "python",
   "pygments_lexer": "ipython3",
   "version": "3.6.8"
  }
 },
 "nbformat": 4,
 "nbformat_minor": 5
}
