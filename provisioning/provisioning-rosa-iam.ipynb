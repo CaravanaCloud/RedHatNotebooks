{
 "cells": [
  {
   "cell_type": "code",
   "execution_count": null,
   "id": "ec5b2be4",
   "metadata": {},
   "outputs": [],
   "source": [
    "# Pre-flight checks (quotas, permissions, users, etc.)\n",
    "# https://docs.openshift.com/rosa/rosa_cli/rosa-get-started-cli.html#rosa-init_rosa-getting-started-cli\n",
    "!rosa init -y"
   ]
  },
  {
   "cell_type": "code",
   "execution_count": null,
   "id": "e5a4f269",
   "metadata": {},
   "outputs": [],
   "source": [
    "# Use a unique id to identify resources)\n",
    "import os\n",
    "unique_id = os.getenv(\"UNIQUE_ID\",\"rhnb\")\n",
    "unique_id"
   ]
  },
  {
   "cell_type": "code",
   "execution_count": null,
   "id": "aed149de",
   "metadata": {},
   "outputs": [],
   "source": [
    "# Define cluster name\n",
    "cluster_name= unique_id+\"-rosa\"\n",
    "cluster_name"
   ]
  },
  {
   "cell_type": "code",
   "execution_count": null,
   "id": "774a08f7",
   "metadata": {},
   "outputs": [],
   "source": [
    "# Before provisioning a cluster, make sure to understand pricing and security implications.\n",
    "# https://aws.amazon.com/rosa/pricing/"
   ]
  },
  {
   "cell_type": "code",
   "execution_count": null,
   "id": "0f24363f",
   "metadata": {},
   "outputs": [],
   "source": [
    "# Create a cluster with default settings\n",
    "! rosa create cluster --cluster-name={cluster_name}"
   ]
  },
  {
   "cell_type": "code",
   "execution_count": null,
   "id": "320726e8",
   "metadata": {},
   "outputs": [],
   "source": [
    "! rosa list clusters --output json | jq -r '.[0]'"
   ]
  },
  {
   "cell_type": "code",
   "execution_count": null,
   "id": "052979fb",
   "metadata": {},
   "outputs": [],
   "source": [
    "# Wait until cluster is ready\n",
    "# TODO: Use waiter from https://github.com/openshift/rosa/pull/503\n",
    "# rosa wait-for -c id42-cluster\n",
    "states=! rosa list clusters --output json | jq -r \".[].status.state\"\n",
    "states=states.s\n",
    "states"
   ]
  },
  {
   "cell_type": "markdown",
   "id": "f7122d6c",
   "metadata": {},
   "source": [
    "Installing a cluster with default settings takes around half an hour.\n",
    "\n",
    "Good time to watch a video on the [OpenShift Youtube channel](https://www.youtube.com/c/OpenShift) :)"
   ]
  },
  {
   "cell_type": "code",
   "execution_count": null,
   "id": "f6e082b0",
   "metadata": {},
   "outputs": [],
   "source": [
    "# Create admin user\n",
    "# TODO: Use password option from PR (-p Masterkey123)\n",
    "! rosa create admin --cluster=\"{cluster_name}\" | tee create_admin.log"
   ]
  },
  {
   "cell_type": "code",
   "execution_count": null,
   "id": "0d55ca91",
   "metadata": {},
   "outputs": [],
   "source": [
    "# Check login command\n",
    "# TODO: Use choice of password\n",
    "!cat create_admin.log "
   ]
  },
  {
   "cell_type": "code",
   "execution_count": null,
   "id": "0d55ca91",
   "metadata": {},
   "outputs": [],
   "source": [
    "# Check login command\n",
    "# TODO: Use choice of password\n",
    "!cat create_admin.log "
   ]
  },
  {
   "cell_type": "code",
   "execution_count": null,
   "id": "6cf763b2",
   "metadata": {},
   "outputs": [],
   "source": [
    "# Wait for admin user to be active, usually takes a couple minutes\n",
    "# TODO: Add a waiter command for that"
   ]
  },
  {
   "cell_type": "code",
   "execution_count": null,
   "id": "1f8991a6",
   "metadata": {},
   "outputs": [],
   "source": [
    "# Login (--insecure-skip-tls-verify=true)\n",
    "! oc login https://api.rhnb-rosa.b1w6.p1.openshiftapps.com:6443 --username cluster-admin --password B46vg-UEfUS-hmQjc-8SFbs --insecure-skip-tls-verify=true"
   ]
  },
  {
   "cell_type": "code",
   "execution_count": null,
   "id": "3f7a9442",
   "metadata": {},
   "outputs": [],
   "source": [
    "# Verify cluster authentication\n",
    "! oc whoami"
   ]
  },
  {
   "cell_type": "code",
   "execution_count": null,
   "id": "58ec6012",
   "metadata": {},
   "outputs": [],
   "source": [
    "# Ping for version\n",
    "!oc version"
   ]
  },
  {
   "cell_type": "code",
   "execution_count": null,
   "id": "c7cbce9e",
   "metadata": {},
   "outputs": [],
   "source": [
    "# Check cluster status\n",
    "!oc status"
   ]
  },
  {
   "cell_type": "code",
   "execution_count": null,
   "id": "57f52936",
   "metadata": {},
   "outputs": [],
   "source": [
    "# Check running resources\n",
    "!oc get nodes"
   ]
  },
  {
   "cell_type": "code",
   "execution_count": null,
   "id": "ba351c3e",
   "metadata": {},
   "outputs": [],
   "source": [
    "# Decomissioning"
   ]
  },
  {
   "cell_type": "code",
   "execution_count": null,
   "id": "b95d11fa",
   "metadata": {},
   "outputs": [],
   "source": [
    "# delete cluster\n",
    "!rosa delete cluster -y -c \"{cluster_name}\""
   ]
  },
  {
   "cell_type": "code",
   "execution_count": null,
   "id": "eff9a756",
   "metadata": {},
   "outputs": [],
   "source": [
    "#  delete IAM admin user\n",
    "!rosa init -y --delete"
   ]
  },
  {
   "cell_type": "code",
   "execution_count": null,
   "id": "9c6273b0-29cc-449d-a20c-247bbe72adf4",
   "metadata": {},
   "outputs": [],
   "source": []
  }
 ],
 "metadata": {
  "kernelspec": {
   "display_name": "Python 3 (ipykernel)",
   "language": "python",
   "name": "python3"
  },
  "language_info": {
   "codemirror_mode": {
    "name": "ipython",
    "version": 3
   },
   "file_extension": ".py",
   "mimetype": "text/x-python",
   "name": "python",
   "nbconvert_exporter": "python",
   "pygments_lexer": "ipython3",
   "version": "3.6.8"
  }
 },
 "nbformat": 4,
 "nbformat_minor": 5
}
