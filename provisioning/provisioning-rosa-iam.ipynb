{
 "cells": [
  {
   "cell_type": "code",
   "execution_count": 4,
   "id": "ec5b2be4",
   "metadata": {},
   "outputs": [
    {
     "name": "stdout",
     "output_type": "stream",
     "text": [
      "\u001b[0;36mI:\u001b[m Admin user 'osdCcsAdmin' created successfully!\n",
      "\u001b[0;36mI:\u001b[m Validating SCP policies for 'osdCcsAdmin'...\n",
      "\u001b[0;36mI:\u001b[m AWS SCP policies ok\n",
      "\u001b[0;36mI:\u001b[m Validating cluster creation...\n",
      "\u001b[0;36mI:\u001b[m Cluster creation valid\n",
      "\u001b[0;36mI:\u001b[m Verifying whether OpenShift command-line tool is available...\n",
      "\u001b[0;36mI:\u001b[m Current OpenShift Client Version: 4.8.9\n"
     ]
    }
   ],
   "source": [
    "# Pre-flight checks (quotas, permissions, users, etc.)\n",
    "# https://docs.openshift.com/rosa/rosa_cli/rosa-get-started-cli.html#rosa-init_rosa-getting-started-cli\n",
    "!rosa init -y"
   ]
  },
  {
   "cell_type": "code",
   "execution_count": 5,
   "id": "e5a4f269",
   "metadata": {},
   "outputs": [
    {
     "data": {
      "text/plain": [
       "'rhnb'"
      ]
     },
     "execution_count": 5,
     "metadata": {},
     "output_type": "execute_result"
    }
   ],
   "source": [
    "# Use a unique id to identify resources)\n",
    "import os\n",
    "unique_id = os.getenv(\"UNIQUE_ID\",\"rhnb\")\n",
    "unique_id"
   ]
  },
  {
   "cell_type": "code",
   "execution_count": 6,
   "id": "aed149de",
   "metadata": {},
   "outputs": [
    {
     "data": {
      "text/plain": [
       "'rhnb-rosa'"
      ]
     },
     "execution_count": 6,
     "metadata": {},
     "output_type": "execute_result"
    }
   ],
   "source": [
    "# Define cluster name\n",
    "cluster_name= unique_id+\"-rosa\"\n",
    "cluster_name"
   ]
  },
  {
   "cell_type": "code",
   "execution_count": 1,
   "id": "774a08f7",
   "metadata": {},
   "outputs": [],
   "source": [
    "# Before provisioning a cluster, make sure to understand pricing and security implications.\n",
    "# https://aws.amazon.com/rosa/pricing/"
   ]
  },
  {
   "cell_type": "code",
   "execution_count": 8,
   "id": "0f24363f",
   "metadata": {},
   "outputs": [
    {
     "name": "stdout",
     "output_type": "stream",
     "text": [
      "\u001b[0;36mI:\u001b[m Creating cluster 'rhnb-rosa'\n",
      "\u001b[0;36mI:\u001b[m To view a list of clusters and their status, run 'rosa list clusters'\n",
      "\u001b[0;36mI:\u001b[m Cluster 'rhnb-rosa' has been created.\n",
      "\u001b[0;36mI:\u001b[m Once the cluster is installed you will need to add an Identity Provider before you can login into the cluster. See 'rosa create idp --help' for more information.\n",
      "\u001b[0;36mI:\u001b[m To determine when your cluster is Ready, run 'rosa describe cluster -c rhnb-rosa'.\n",
      "\u001b[0;36mI:\u001b[m To watch your cluster installation logs, run 'rosa logs install -c rhnb-rosa --watch'.\n",
      "Name:                       rhnb-rosa\n",
      "ID:                         1pmvjekmufhh8855dkbjc94arfn1222q\n",
      "External ID:                \n",
      "OpenShift Version:          \n",
      "Channel Group:              stable\n",
      "DNS:                        rhnb-rosa.b1w6.p1.openshiftapps.com\n",
      "AWS Account:                269733383066\n",
      "API URL:                    \n",
      "Console URL:                \n",
      "Region:                     ap-northeast-1\n",
      "Multi-AZ:                   false\n",
      "Nodes:\n",
      " - Control plane:           3\n",
      " - Infra:                   2\n",
      " - Compute:                 2\n",
      "Network:\n",
      " - Service CIDR:            172.30.0.0/16\n",
      " - Machine CIDR:            10.0.0.0/16\n",
      " - Pod CIDR:                10.128.0.0/14\n",
      " - Host Prefix:             /23\n",
      "State:                      pending (Preparing account)\n",
      "Private:                    No\n",
      "Created:                    Jan 13 2022 15:39:43 UTC\n",
      "Details Page:               https://console.redhat.com/openshift/details/s/23eIyxeG9HyzWlymXgSFv3EHmKd\n",
      "\n"
     ]
    }
   ],
   "source": [
    "# Create a cluster with default settings\n",
    "! rosa create cluster --cluster-name={cluster_name}"
   ]
  },
  {
   "cell_type": "code",
   "execution_count": 9,
   "id": "320726e8",
   "metadata": {},
   "outputs": [
    {
     "name": "stdout",
     "output_type": "stream",
     "text": [
      "\u001b[1;39m{\n",
      "  \u001b[0m\u001b[34;1m\"kind\"\u001b[0m\u001b[1;39m: \u001b[0m\u001b[0;32m\"Cluster\"\u001b[0m\u001b[1;39m,\n",
      "  \u001b[0m\u001b[34;1m\"id\"\u001b[0m\u001b[1;39m: \u001b[0m\u001b[0;32m\"1pmvjekmufhh8855dkbjc94arfn1222q\"\u001b[0m\u001b[1;39m,\n",
      "  \u001b[0m\u001b[34;1m\"href\"\u001b[0m\u001b[1;39m: \u001b[0m\u001b[0;32m\"/api/clusters_mgmt/v1/clusters/1pmvjekmufhh8855dkbjc94arfn1222q\"\u001b[0m\u001b[1;39m,\n",
      "  \u001b[0m\u001b[34;1m\"api\"\u001b[0m\u001b[1;39m: \u001b[0m\u001b[1;39m{\n",
      "    \u001b[0m\u001b[34;1m\"listening\"\u001b[0m\u001b[1;39m: \u001b[0m\u001b[0;32m\"external\"\u001b[0m\u001b[1;39m\n",
      "  \u001b[1;39m}\u001b[0m\u001b[1;39m,\n",
      "  \u001b[0m\u001b[34;1m\"aws\"\u001b[0m\u001b[1;39m: \u001b[0m\u001b[1;39m{\n",
      "    \u001b[0m\u001b[34;1m\"private_link\"\u001b[0m\u001b[1;39m: \u001b[0m\u001b[0;39mfalse\u001b[0m\u001b[1;39m\n",
      "  \u001b[1;39m}\u001b[0m\u001b[1;39m,\n",
      "  \u001b[0m\u001b[34;1m\"aws_infrastructure_access_role_grants\"\u001b[0m\u001b[1;39m: \u001b[0m\u001b[1;39m{\n",
      "    \u001b[0m\u001b[34;1m\"items\"\u001b[0m\u001b[1;39m: \u001b[0m\u001b[1;39m[]\u001b[0m\u001b[1;39m\n",
      "  \u001b[1;39m}\u001b[0m\u001b[1;39m,\n",
      "  \u001b[0m\u001b[34;1m\"ccs\"\u001b[0m\u001b[1;39m: \u001b[0m\u001b[1;39m{\n",
      "    \u001b[0m\u001b[34;1m\"kind\"\u001b[0m\u001b[1;39m: \u001b[0m\u001b[0;32m\"CCS\"\u001b[0m\u001b[1;39m,\n",
      "    \u001b[0m\u001b[34;1m\"disable_scp_checks\"\u001b[0m\u001b[1;39m: \u001b[0m\u001b[0;39mfalse\u001b[0m\u001b[1;39m,\n",
      "    \u001b[0m\u001b[34;1m\"enabled\"\u001b[0m\u001b[1;39m: \u001b[0m\u001b[0;39mtrue\u001b[0m\u001b[1;39m\n",
      "  \u001b[1;39m}\u001b[0m\u001b[1;39m,\n",
      "  \u001b[0m\u001b[34;1m\"dns\"\u001b[0m\u001b[1;39m: \u001b[0m\u001b[1;39m{\n",
      "    \u001b[0m\u001b[34;1m\"base_domain\"\u001b[0m\u001b[1;39m: \u001b[0m\u001b[0;32m\"b1w6.p1.openshiftapps.com\"\u001b[0m\u001b[1;39m\n",
      "  \u001b[1;39m}\u001b[0m\u001b[1;39m,\n",
      "  \u001b[0m\u001b[34;1m\"addons\"\u001b[0m\u001b[1;39m: \u001b[0m\u001b[1;39m{\n",
      "    \u001b[0m\u001b[34;1m\"items\"\u001b[0m\u001b[1;39m: \u001b[0m\u001b[1;39m[]\u001b[0m\u001b[1;39m\n",
      "  \u001b[1;39m}\u001b[0m\u001b[1;39m,\n",
      "  \u001b[0m\u001b[34;1m\"billing_model\"\u001b[0m\u001b[1;39m: \u001b[0m\u001b[0;32m\"standard\"\u001b[0m\u001b[1;39m,\n",
      "  \u001b[0m\u001b[34;1m\"cloud_provider\"\u001b[0m\u001b[1;39m: \u001b[0m\u001b[1;39m{\n",
      "    \u001b[0m\u001b[34;1m\"kind\"\u001b[0m\u001b[1;39m: \u001b[0m\u001b[0;32m\"CloudProviderLink\"\u001b[0m\u001b[1;39m,\n",
      "    \u001b[0m\u001b[34;1m\"id\"\u001b[0m\u001b[1;39m: \u001b[0m\u001b[0;32m\"aws\"\u001b[0m\u001b[1;39m,\n",
      "    \u001b[0m\u001b[34;1m\"href\"\u001b[0m\u001b[1;39m: \u001b[0m\u001b[0;32m\"/api/clusters_mgmt/v1/cloud_providers/aws\"\u001b[0m\u001b[1;39m\n",
      "  \u001b[1;39m}\u001b[0m\u001b[1;39m,\n",
      "  \u001b[0m\u001b[34;1m\"creation_timestamp\"\u001b[0m\u001b[1;39m: \u001b[0m\u001b[0;32m\"2022-01-13T15:39:43Z\"\u001b[0m\u001b[1;39m,\n",
      "  \u001b[0m\u001b[34;1m\"disable_user_workload_monitoring\"\u001b[0m\u001b[1;39m: \u001b[0m\u001b[0;39mfalse\u001b[0m\u001b[1;39m,\n",
      "  \u001b[0m\u001b[34;1m\"display_name\"\u001b[0m\u001b[1;39m: \u001b[0m\u001b[0;32m\"rhnb-rosa\"\u001b[0m\u001b[1;39m,\n",
      "  \u001b[0m\u001b[34;1m\"etcd_encryption\"\u001b[0m\u001b[1;39m: \u001b[0m\u001b[0;39mtrue\u001b[0m\u001b[1;39m,\n",
      "  \u001b[0m\u001b[34;1m\"external_id\"\u001b[0m\u001b[1;39m: \u001b[0m\u001b[0;32m\"aff16b18-7665-460b-b65a-7b87c438dae8\"\u001b[0m\u001b[1;39m,\n",
      "  \u001b[0m\u001b[34;1m\"external_configuration\"\u001b[0m\u001b[1;39m: \u001b[0m\u001b[1;39m{\n",
      "    \u001b[0m\u001b[34;1m\"labels\"\u001b[0m\u001b[1;39m: \u001b[0m\u001b[1;39m{\n",
      "      \u001b[0m\u001b[34;1m\"items\"\u001b[0m\u001b[1;39m: \u001b[0m\u001b[1;39m[]\u001b[0m\u001b[1;39m\n",
      "    \u001b[1;39m}\u001b[0m\u001b[1;39m,\n",
      "    \u001b[0m\u001b[34;1m\"syncsets\"\u001b[0m\u001b[1;39m: \u001b[0m\u001b[1;39m{\n",
      "      \u001b[0m\u001b[34;1m\"items\"\u001b[0m\u001b[1;39m: \u001b[0m\u001b[1;39m[]\u001b[0m\u001b[1;39m\n",
      "    \u001b[1;39m}\u001b[0m\u001b[1;39m\n",
      "  \u001b[1;39m}\u001b[0m\u001b[1;39m,\n",
      "  \u001b[0m\u001b[34;1m\"flavour\"\u001b[0m\u001b[1;39m: \u001b[0m\u001b[1;39m{\n",
      "    \u001b[0m\u001b[34;1m\"kind\"\u001b[0m\u001b[1;39m: \u001b[0m\u001b[0;32m\"FlavourLink\"\u001b[0m\u001b[1;39m,\n",
      "    \u001b[0m\u001b[34;1m\"id\"\u001b[0m\u001b[1;39m: \u001b[0m\u001b[0;32m\"osd-4\"\u001b[0m\u001b[1;39m,\n",
      "    \u001b[0m\u001b[34;1m\"href\"\u001b[0m\u001b[1;39m: \u001b[0m\u001b[0;32m\"/api/clusters_mgmt/v1/flavours/osd-4\"\u001b[0m\u001b[1;39m\n",
      "  \u001b[1;39m}\u001b[0m\u001b[1;39m,\n",
      "  \u001b[0m\u001b[34;1m\"groups\"\u001b[0m\u001b[1;39m: \u001b[0m\u001b[1;39m{\n",
      "    \u001b[0m\u001b[34;1m\"items\"\u001b[0m\u001b[1;39m: \u001b[0m\u001b[1;39m[]\u001b[0m\u001b[1;39m\n",
      "  \u001b[1;39m}\u001b[0m\u001b[1;39m,\n",
      "  \u001b[0m\u001b[34;1m\"identity_providers\"\u001b[0m\u001b[1;39m: \u001b[0m\u001b[1;39m{\n",
      "    \u001b[0m\u001b[34;1m\"items\"\u001b[0m\u001b[1;39m: \u001b[0m\u001b[1;39m[]\u001b[0m\u001b[1;39m\n",
      "  \u001b[1;39m}\u001b[0m\u001b[1;39m,\n",
      "  \u001b[0m\u001b[34;1m\"ingresses\"\u001b[0m\u001b[1;39m: \u001b[0m\u001b[1;39m{\n",
      "    \u001b[0m\u001b[34;1m\"items\"\u001b[0m\u001b[1;39m: \u001b[0m\u001b[1;39m[]\u001b[0m\u001b[1;39m\n",
      "  \u001b[1;39m}\u001b[0m\u001b[1;39m,\n",
      "  \u001b[0m\u001b[34;1m\"machine_pools\"\u001b[0m\u001b[1;39m: \u001b[0m\u001b[1;39m{\n",
      "    \u001b[0m\u001b[34;1m\"items\"\u001b[0m\u001b[1;39m: \u001b[0m\u001b[1;39m[]\u001b[0m\u001b[1;39m\n",
      "  \u001b[1;39m}\u001b[0m\u001b[1;39m,\n",
      "  \u001b[0m\u001b[34;1m\"managed\"\u001b[0m\u001b[1;39m: \u001b[0m\u001b[0;39mtrue\u001b[0m\u001b[1;39m,\n",
      "  \u001b[0m\u001b[34;1m\"multi_az\"\u001b[0m\u001b[1;39m: \u001b[0m\u001b[0;39mfalse\u001b[0m\u001b[1;39m,\n",
      "  \u001b[0m\u001b[34;1m\"name\"\u001b[0m\u001b[1;39m: \u001b[0m\u001b[0;32m\"rhnb-rosa\"\u001b[0m\u001b[1;39m,\n",
      "  \u001b[0m\u001b[34;1m\"network\"\u001b[0m\u001b[1;39m: \u001b[0m\u001b[1;39m{\n",
      "    \u001b[0m\u001b[34;1m\"host_prefix\"\u001b[0m\u001b[1;39m: \u001b[0m\u001b[0;39m23\u001b[0m\u001b[1;39m,\n",
      "    \u001b[0m\u001b[34;1m\"machine_cidr\"\u001b[0m\u001b[1;39m: \u001b[0m\u001b[0;32m\"10.0.0.0/16\"\u001b[0m\u001b[1;39m,\n",
      "    \u001b[0m\u001b[34;1m\"pod_cidr\"\u001b[0m\u001b[1;39m: \u001b[0m\u001b[0;32m\"10.128.0.0/14\"\u001b[0m\u001b[1;39m,\n",
      "    \u001b[0m\u001b[34;1m\"service_cidr\"\u001b[0m\u001b[1;39m: \u001b[0m\u001b[0;32m\"172.30.0.0/16\"\u001b[0m\u001b[1;39m\n",
      "  \u001b[1;39m}\u001b[0m\u001b[1;39m,\n",
      "  \u001b[0m\u001b[34;1m\"node_drain_grace_period\"\u001b[0m\u001b[1;39m: \u001b[0m\u001b[1;39m{\n",
      "    \u001b[0m\u001b[34;1m\"unit\"\u001b[0m\u001b[1;39m: \u001b[0m\u001b[0;32m\"minutes\"\u001b[0m\u001b[1;39m,\n",
      "    \u001b[0m\u001b[34;1m\"value\"\u001b[0m\u001b[1;39m: \u001b[0m\u001b[0;39m60\u001b[0m\u001b[1;39m\n",
      "  \u001b[1;39m}\u001b[0m\u001b[1;39m,\n",
      "  \u001b[0m\u001b[34;1m\"nodes\"\u001b[0m\u001b[1;39m: \u001b[0m\u001b[1;39m{\n",
      "    \u001b[0m\u001b[34;1m\"availability_zones\"\u001b[0m\u001b[1;39m: \u001b[0m\u001b[1;39m[\n",
      "      \u001b[0;32m\"ap-northeast-1a\"\u001b[0m\u001b[1;39m\n",
      "    \u001b[1;39m]\u001b[0m\u001b[1;39m,\n",
      "    \u001b[0m\u001b[34;1m\"compute\"\u001b[0m\u001b[1;39m: \u001b[0m\u001b[0;39m2\u001b[0m\u001b[1;39m,\n",
      "    \u001b[0m\u001b[34;1m\"compute_machine_type\"\u001b[0m\u001b[1;39m: \u001b[0m\u001b[1;39m{\n",
      "      \u001b[0m\u001b[34;1m\"kind\"\u001b[0m\u001b[1;39m: \u001b[0m\u001b[0;32m\"MachineTypeLink\"\u001b[0m\u001b[1;39m,\n",
      "      \u001b[0m\u001b[34;1m\"id\"\u001b[0m\u001b[1;39m: \u001b[0m\u001b[0;32m\"m5.xlarge\"\u001b[0m\u001b[1;39m,\n",
      "      \u001b[0m\u001b[34;1m\"href\"\u001b[0m\u001b[1;39m: \u001b[0m\u001b[0;32m\"/api/clusters_mgmt/v1/machine_types/m5.xlarge\"\u001b[0m\u001b[1;39m\n",
      "    \u001b[1;39m}\u001b[0m\u001b[1;39m,\n",
      "    \u001b[0m\u001b[34;1m\"infra\"\u001b[0m\u001b[1;39m: \u001b[0m\u001b[0;39m2\u001b[0m\u001b[1;39m,\n",
      "    \u001b[0m\u001b[34;1m\"master\"\u001b[0m\u001b[1;39m: \u001b[0m\u001b[0;39m3\u001b[0m\u001b[1;39m\n",
      "  \u001b[1;39m}\u001b[0m\u001b[1;39m,\n",
      "  \u001b[0m\u001b[34;1m\"product\"\u001b[0m\u001b[1;39m: \u001b[0m\u001b[1;39m{\n",
      "    \u001b[0m\u001b[34;1m\"kind\"\u001b[0m\u001b[1;39m: \u001b[0m\u001b[0;32m\"ProductLink\"\u001b[0m\u001b[1;39m,\n",
      "    \u001b[0m\u001b[34;1m\"id\"\u001b[0m\u001b[1;39m: \u001b[0m\u001b[0;32m\"rosa\"\u001b[0m\u001b[1;39m,\n",
      "    \u001b[0m\u001b[34;1m\"href\"\u001b[0m\u001b[1;39m: \u001b[0m\u001b[0;32m\"/api/clusters_mgmt/v1/products/rosa\"\u001b[0m\u001b[1;39m\n",
      "  \u001b[1;39m}\u001b[0m\u001b[1;39m,\n",
      "  \u001b[0m\u001b[34;1m\"properties\"\u001b[0m\u001b[1;39m: \u001b[0m\u001b[1;39m{\n",
      "    \u001b[0m\u001b[34;1m\"rosa_cli_version\"\u001b[0m\u001b[1;39m: \u001b[0m\u001b[0;32m\"1.1.6\"\u001b[0m\u001b[1;39m,\n",
      "    \u001b[0m\u001b[34;1m\"rosa_creator_arn\"\u001b[0m\u001b[1;39m: \u001b[0m\u001b[0;32m\"arn:aws:iam::269733383066:user/jufaerma\"\u001b[0m\u001b[1;39m\n",
      "  \u001b[1;39m}\u001b[0m\u001b[1;39m,\n",
      "  \u001b[0m\u001b[34;1m\"region\"\u001b[0m\u001b[1;39m: \u001b[0m\u001b[1;39m{\n",
      "    \u001b[0m\u001b[34;1m\"kind\"\u001b[0m\u001b[1;39m: \u001b[0m\u001b[0;32m\"CloudRegionLink\"\u001b[0m\u001b[1;39m,\n",
      "    \u001b[0m\u001b[34;1m\"id\"\u001b[0m\u001b[1;39m: \u001b[0m\u001b[0;32m\"ap-northeast-1\"\u001b[0m\u001b[1;39m,\n",
      "    \u001b[0m\u001b[34;1m\"href\"\u001b[0m\u001b[1;39m: \u001b[0m\u001b[0;32m\"/api/clusters_mgmt/v1/cloud_providers/aws/regions/ap-northeast-1\"\u001b[0m\u001b[1;39m\n",
      "  \u001b[1;39m}\u001b[0m\u001b[1;39m,\n",
      "  \u001b[0m\u001b[34;1m\"state\"\u001b[0m\u001b[1;39m: \u001b[0m\u001b[0;32m\"installing\"\u001b[0m\u001b[1;39m,\n",
      "  \u001b[0m\u001b[34;1m\"status\"\u001b[0m\u001b[1;39m: \u001b[0m\u001b[1;39m{\n",
      "    \u001b[0m\u001b[34;1m\"kind\"\u001b[0m\u001b[1;39m: \u001b[0m\u001b[0;32m\"ClusterStatus\"\u001b[0m\u001b[1;39m,\n",
      "    \u001b[0m\u001b[34;1m\"dns_ready\"\u001b[0m\u001b[1;39m: \u001b[0m\u001b[0;39mtrue\u001b[0m\u001b[1;39m,\n",
      "    \u001b[0m\u001b[34;1m\"configuration_mode\"\u001b[0m\u001b[1;39m: \u001b[0m\u001b[0;32m\"full\"\u001b[0m\u001b[1;39m,\n",
      "    \u001b[0m\u001b[34;1m\"provision_error_code\"\u001b[0m\u001b[1;39m: \u001b[0m\u001b[0;32m\"\"\u001b[0m\u001b[1;39m,\n",
      "    \u001b[0m\u001b[34;1m\"provision_error_message\"\u001b[0m\u001b[1;39m: \u001b[0m\u001b[0;32m\"\"\u001b[0m\u001b[1;39m,\n",
      "    \u001b[0m\u001b[34;1m\"state\"\u001b[0m\u001b[1;39m: \u001b[0m\u001b[0;32m\"installing\"\u001b[0m\u001b[1;39m\n",
      "  \u001b[1;39m}\u001b[0m\u001b[1;39m,\n",
      "  \u001b[0m\u001b[34;1m\"subscription\"\u001b[0m\u001b[1;39m: \u001b[0m\u001b[1;39m{\n",
      "    \u001b[0m\u001b[34;1m\"kind\"\u001b[0m\u001b[1;39m: \u001b[0m\u001b[0;32m\"SubscriptionLink\"\u001b[0m\u001b[1;39m,\n",
      "    \u001b[0m\u001b[34;1m\"id\"\u001b[0m\u001b[1;39m: \u001b[0m\u001b[0;32m\"23eIyxeG9HyzWlymXgSFv3EHmKd\"\u001b[0m\u001b[1;39m,\n",
      "    \u001b[0m\u001b[34;1m\"href\"\u001b[0m\u001b[1;39m: \u001b[0m\u001b[0;32m\"/api/accounts_mgmt/v1/subscriptions/23eIyxeG9HyzWlymXgSFv3EHmKd\"\u001b[0m\u001b[1;39m\n",
      "  \u001b[1;39m}\u001b[0m\u001b[1;39m,\n",
      "  \u001b[0m\u001b[34;1m\"version\"\u001b[0m\u001b[1;39m: \u001b[0m\u001b[1;39m{\n",
      "    \u001b[0m\u001b[34;1m\"kind\"\u001b[0m\u001b[1;39m: \u001b[0m\u001b[0;32m\"Version\"\u001b[0m\u001b[1;39m,\n",
      "    \u001b[0m\u001b[34;1m\"id\"\u001b[0m\u001b[1;39m: \u001b[0m\u001b[0;32m\"openshift-v4.9.12\"\u001b[0m\u001b[1;39m,\n",
      "    \u001b[0m\u001b[34;1m\"href\"\u001b[0m\u001b[1;39m: \u001b[0m\u001b[0;32m\"/api/clusters_mgmt/v1/versions/openshift-v4.9.12\"\u001b[0m\u001b[1;39m,\n",
      "    \u001b[0m\u001b[34;1m\"channel_group\"\u001b[0m\u001b[1;39m: \u001b[0m\u001b[0;32m\"stable\"\u001b[0m\u001b[1;39m,\n",
      "    \u001b[0m\u001b[34;1m\"end_of_life_timestamp\"\u001b[0m\u001b[1;39m: \u001b[0m\u001b[0;32m\"2022-07-18T00:00:00Z\"\u001b[0m\u001b[1;39m,\n",
      "    \u001b[0m\u001b[34;1m\"raw_id\"\u001b[0m\u001b[1;39m: \u001b[0m\u001b[0;32m\"4.9.12\"\u001b[0m\u001b[1;39m\n",
      "  \u001b[1;39m}\u001b[0m\u001b[1;39m\n",
      "\u001b[1;39m}\u001b[0m\n"
     ]
    }
   ],
   "source": [
    "! rosa list clusters --output json | jq -r '.[0]'"
   ]
  },
  {
   "cell_type": "code",
   "execution_count": 11,
   "id": "052979fb",
   "metadata": {},
   "outputs": [
    {
     "data": {
      "text/plain": [
       "'ready'"
      ]
     },
     "execution_count": 11,
     "metadata": {},
     "output_type": "execute_result"
    }
   ],
   "source": [
    "# Wait until cluster is ready\n",
    "# TODO: Use waiter from https://github.com/openshift/rosa/pull/503\n",
    "# rosa wait-for -c id42-cluster\n",
    "states=! rosa list clusters --output json | jq -r \".[].status.state\"\n",
    "states=states.s\n",
    "states"
   ]
  },
  {
   "cell_type": "markdown",
   "id": "f7122d6c",
   "metadata": {},
   "source": [
    "Installing a cluster with default settings takes around half an hour.\n",
    "\n",
    "Good time to watch a video on the [OpenShift Youtube channel](https://www.youtube.com/c/OpenShift) :)"
   ]
  },
  {
   "cell_type": "code",
   "execution_count": 12,
   "id": "f6e082b0",
   "metadata": {},
   "outputs": [
    {
     "name": "stdout",
     "output_type": "stream",
     "text": [
      "\u001b[0;33mW:\u001b[m It is recommended to add an identity provider to login to this cluster. See 'rosa create idp --help' for more information.\n",
      "\u001b[0;36mI:\u001b[m Admin account has been added to cluster 'rhnb-rosa'.\n",
      "\u001b[0;36mI:\u001b[m Please securely store this generated password. If you lose this password you can delete and recreate the cluster admin user.\n",
      "\u001b[0;36mI:\u001b[m To login, run the following command:\n",
      "\n",
      "   oc login https://api.rhnb-rosa.b1w6.p1.openshiftapps.com:6443 --username cluster-admin --password B46vg-UEfUS-hmQjc-8SFbs\n",
      "\n",
      "\u001b[0;36mI:\u001b[m It may take up to a minute for the account to become active.\n"
     ]
    }
   ],
   "source": [
    "# Create admin user\n",
    "# TODO: Use password option from PR (-p Masterkey123)\n",
    "! rosa create admin --cluster=\"{cluster_name}\" | tee create_admin.log"
   ]
  },
  {
   "cell_type": "code",
   "execution_count": 13,
   "id": "0d55ca91",
   "metadata": {},
   "outputs": [
    {
     "name": "stdout",
     "output_type": "stream",
     "text": [
      "\u001b[0;36mI:\u001b[m Admin account has been added to cluster 'rhnb-rosa'.\n",
      "\u001b[0;36mI:\u001b[m Please securely store this generated password. If you lose this password you can delete and recreate the cluster admin user.\n",
      "\u001b[0;36mI:\u001b[m To login, run the following command:\n",
      "\n",
      "   oc login https://api.rhnb-rosa.b1w6.p1.openshiftapps.com:6443 --username cluster-admin --password B46vg-UEfUS-hmQjc-8SFbs\n",
      "\n",
      "\u001b[0;36mI:\u001b[m It may take up to a minute for the account to become active.\n"
     ]
    }
   ],
   "source": [
    "# Check login command\n",
    "# TODO: Use choice of password\n",
    "!cat create_admin.log "
   ]
  },
  {
   "cell_type": "code",
   "execution_count": null,
   "id": "0d55ca91",
   "metadata": {},
   "outputs": [],
   "source": [
    "# Check login command\n",
    "# TODO: Use choice of password\n",
    "!cat create_admin.log "
   ]
  },
  {
   "cell_type": "code",
   "execution_count": null,
   "id": "6cf763b2",
   "metadata": {},
   "outputs": [],
   "source": [
    "# Wait for admin user to be active, usually takes a couple minutes\n",
    "# TODO: Add a waiter command for that"
   ]
  },
  {
   "cell_type": "code",
   "execution_count": 16,
   "id": "1f8991a6",
   "metadata": {},
   "outputs": [
    {
     "name": "stdout",
     "output_type": "stream",
     "text": [
      "Login successful.\n",
      "\n",
      "You have access to 90 projects, the list has been suppressed. You can list all projects with 'oc projects'\n",
      "\n",
      "Using project \"default\".\n"
     ]
    }
   ],
   "source": [
    "# Login (--insecure-skip-tls-verify=true)\n",
    "! oc login https://api.rhnb-rosa.b1w6.p1.openshiftapps.com:6443 --username cluster-admin --password B46vg-UEfUS-hmQjc-8SFbs --insecure-skip-tls-verify=true"
   ]
  },
  {
   "cell_type": "code",
   "execution_count": 17,
   "id": "3f7a9442",
   "metadata": {},
   "outputs": [
    {
     "name": "stdout",
     "output_type": "stream",
     "text": [
      "cluster-admin\n"
     ]
    }
   ],
   "source": [
    "# Verify cluster authentication\n",
    "! oc whoami"
   ]
  },
  {
   "cell_type": "code",
   "execution_count": 18,
   "id": "58ec6012",
   "metadata": {},
   "outputs": [
    {
     "name": "stdout",
     "output_type": "stream",
     "text": [
      "Client Version: 4.8.9\n",
      "Server Version: 4.9.12\n",
      "Kubernetes Version: v1.22.3+e790d7f\n"
     ]
    }
   ],
   "source": [
    "# Ping for version\n",
    "!oc version"
   ]
  },
  {
   "cell_type": "code",
   "execution_count": 19,
   "id": "c7cbce9e",
   "metadata": {},
   "outputs": [
    {
     "name": "stdout",
     "output_type": "stream",
     "text": [
      "In project default on server https://api.rhnb-rosa.b1w6.p1.openshiftapps.com:6443\n",
      "\n",
      "svc/openshift - kubernetes.default.svc.cluster.local\n",
      "svc/kubernetes - 172.30.0.1:443 -> 6443\n",
      "\n",
      "View details with 'oc describe <resource>/<name>' or list resources with 'oc get all'.\n"
     ]
    }
   ],
   "source": [
    "# Check cluster status\n",
    "!oc status"
   ]
  },
  {
   "cell_type": "code",
   "execution_count": 20,
   "id": "57f52936",
   "metadata": {},
   "outputs": [
    {
     "name": "stdout",
     "output_type": "stream",
     "text": [
      "NAME                                              STATUS                        ROLES          AGE   VERSION\n",
      "ip-10-0-135-60.ap-northeast-1.compute.internal    NotReady,SchedulingDisabled   master         36m   v1.22.3+e790d7f\n",
      "ip-10-0-142-182.ap-northeast-1.compute.internal   Ready                         master         36m   v1.22.3+e790d7f\n",
      "ip-10-0-164-25.ap-northeast-1.compute.internal    Ready                         infra,worker   11m   v1.22.3+e790d7f\n",
      "ip-10-0-176-56.ap-northeast-1.compute.internal    Ready                         worker         27m   v1.22.3+e790d7f\n",
      "ip-10-0-179-154.ap-northeast-1.compute.internal   Ready                         worker         27m   v1.22.3+e790d7f\n",
      "ip-10-0-183-184.ap-northeast-1.compute.internal   Ready                         master         36m   v1.22.3+e790d7f\n",
      "ip-10-0-185-16.ap-northeast-1.compute.internal    Ready                         infra,worker   11m   v1.22.3+e790d7f\n"
     ]
    }
   ],
   "source": [
    "# Check running resources\n",
    "!oc get nodes"
   ]
  },
  {
   "cell_type": "code",
   "execution_count": null,
   "id": "ba351c3e",
   "metadata": {},
   "outputs": [],
   "source": [
    "# Decomissioning"
   ]
  },
  {
   "cell_type": "code",
   "execution_count": null,
   "id": "b95d11fa",
   "metadata": {},
   "outputs": [],
   "source": [
    "# delete cluster\n",
    "!rosa delete cluster -y -c \"{cluster_name}\""
   ]
  },
  {
   "cell_type": "code",
   "execution_count": null,
   "id": "eff9a756",
   "metadata": {},
   "outputs": [],
   "source": [
    "#  delete IAM admin user\n",
    "!rosa init -y --delete"
   ]
  },
  {
   "cell_type": "code",
   "execution_count": null,
   "id": "9c6273b0-29cc-449d-a20c-247bbe72adf4",
   "metadata": {},
   "outputs": [],
   "source": []
  }
 ],
 "metadata": {
  "kernelspec": {
   "display_name": "Python 3 (ipykernel)",
   "language": "python",
   "name": "python3"
  },
  "language_info": {
   "codemirror_mode": {
    "name": "ipython",
    "version": 3
   },
   "file_extension": ".py",
   "mimetype": "text/x-python",
   "name": "python",
   "nbconvert_exporter": "python",
   "pygments_lexer": "ipython3",
   "version": "3.6.8"
  }
 },
 "nbformat": 4,
 "nbformat_minor": 5
}
