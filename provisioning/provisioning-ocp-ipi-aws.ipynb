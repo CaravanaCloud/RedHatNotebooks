{
 "cells": [
  {
   "cell_type": "code",
   "execution_count": 1,
   "id": "f8e8f6a3",
   "metadata": {},
   "outputs": [
    {
     "name": "stdout",
     "output_type": "stream",
     "text": [
      "env: UNIQ=rhoan-ipi\n"
     ]
    }
   ],
   "source": [
    "# Unique name for resources\n",
    "uniq=\"rhoan-ipi\"\n",
    "%env UNIQ {uniq}"
   ]
  },
  {
   "cell_type": "code",
   "execution_count": 2,
   "id": "1740bdc5-cc68-4610-b9ff-6de06ddc64e4",
   "metadata": {},
   "outputs": [
    {
     "name": "stdout",
     "output_type": "stream",
     "text": [
      "env: SSH_KEY=/tmp/sshkey\n",
      "-rw-------. 1 jufaerma jufaerma 419 Dec 20 14:20 /tmp/sshkey\n",
      "-rw-r--r--. 1 jufaerma jufaerma 110 Dec 20 14:20 /tmp/sshkey.pub\n"
     ]
    }
   ],
   "source": [
    "%env SSH_KEY /tmp/sshkey\n",
    "!rm -f \"$SSH_KEY\"\n",
    "!ssh-keygen -b \"2048\" -t \"ed25519\" -f \"$SSH_KEY\" -q -N \"\"\n",
    "!ls -l \"$SSH_KEY\"*"
   ]
  },
  {
   "cell_type": "code",
   "execution_count": 3,
   "id": "bc3dfe78-801f-412b-a0e0-d1fa689c2717",
   "metadata": {},
   "outputs": [
    {
     "name": "stdout",
     "output_type": "stream",
     "text": [
      "total 16K\n",
      "77123698 drwxrwxr-x.  2 jufaerma jufaerma   6 Dec 20 14:21 .\n",
      "25173592 drwxrwxrwt. 77 root     root     12K Dec 20 14:21 ..\n"
     ]
    }
   ],
   "source": [
    "# Clear Install Dir\n",
    "install_dir=\"/tmp/install-$UNIQ\"\n",
    "! rm -rf {install_dir}\n",
    "! mkdir -p {install_dir}\n",
    "! ls -liah {install_dir}"
   ]
  },
  {
   "cell_type": "code",
   "execution_count": 4,
   "id": "84d726cf",
   "metadata": {},
   "outputs": [
    {
     "data": {
      "text/plain": [
       "'rhoan-ipi'"
      ]
     },
     "execution_count": 4,
     "metadata": {},
     "output_type": "execute_result"
    }
   ],
   "source": [
    "cluster_name=uniq\n",
    "cluster_name"
   ]
  },
  {
   "cell_type": "code",
   "execution_count": 5,
   "id": "7c0d21bb",
   "metadata": {},
   "outputs": [
    {
     "data": {
      "text/plain": [
       "'info'"
      ]
     },
     "execution_count": 5,
     "metadata": {},
     "output_type": "execute_result"
    }
   ],
   "source": [
    "log_level=\"info\"\n",
    "log_level"
   ]
  },
  {
   "cell_type": "code",
   "execution_count": null,
   "id": "b5421ff8",
   "metadata": {},
   "outputs": [],
   "source": [
    "\n"
   ]
  },
  {
   "cell_type": "code",
   "execution_count": 6,
   "id": "7e3d450c",
   "metadata": {},
   "outputs": [
    {
     "name": "stdout",
     "output_type": "stream",
     "text": [
      "openshift-install create install-config --dir \"/tmp/install-rhoan-ipi\"\n"
     ]
    }
   ],
   "source": [
    "# Run the outut command in a separate terminal\n",
    "# Generates install config based on input\n",
    "# TODO: Silent install\n",
    "! echo openshift-install create install-config --dir \\\"{install_dir}\\\""
   ]
  },
  {
   "cell_type": "code",
   "execution_count": 20,
   "id": "cfba1cef-a5dc-445f-9930-f8c942894328",
   "metadata": {},
   "outputs": [
    {
     "name": "stdout",
     "output_type": "stream",
     "text": [
      "openshift-install create cluster --dir \"/tmp/install-rhoan-rosa\" --log-level=info\n"
     ]
    }
   ],
   "source": [
    "# Create the cluster\n",
    "!  openshift-install create cluster --dir \\\"{install_dir}\\\" --log-level={log_level}\n"
   ]
  },
  {
   "cell_type": "code",
   "execution_count": null,
   "id": "0edb367a-88cc-4d76-8571-e419d24804a3",
   "metadata": {},
   "outputs": [],
   "source": [
    "! openshift-install help create cluster\n"
   ]
  },
  {
   "cell_type": "code",
   "execution_count": 24,
   "id": "58dabaab",
   "metadata": {},
   "outputs": [
    {
     "name": "stdout",
     "output_type": "stream",
     "text": [
      "openshift-install destroy cluster --dir \"/tmp/install-rhoan-ipi\" --log-level=info\n"
     ]
    }
   ],
   "source": [
    "# Cleanup Cluster\n",
    "! echo openshift-install destroy cluster --dir \\\"{install_dir}\\\" --log-level={log_level}\n"
   ]
  },
  {
   "cell_type": "code",
   "execution_count": 1,
   "id": "fe68ee87",
   "metadata": {},
   "outputs": [],
   "source": [
    "# Cleanup Install dir\n",
    "!rm -rf {install_dir}"
   ]
  },
  {
   "cell_type": "code",
   "execution_count": null,
   "id": "8e020434",
   "metadata": {},
   "outputs": [],
   "source": []
  }
 ],
 "metadata": {
  "kernelspec": {
   "display_name": "Python 3 (ipykernel)",
   "language": "python",
   "name": "python3"
  },
  "language_info": {
   "codemirror_mode": {
    "name": "ipython",
    "version": 3
   },
   "file_extension": ".py",
   "mimetype": "text/x-python",
   "name": "python",
   "nbconvert_exporter": "python",
   "pygments_lexer": "ipython3",
   "version": "3.6.8"
  }
 },
 "nbformat": 4,
 "nbformat_minor": 5
}
