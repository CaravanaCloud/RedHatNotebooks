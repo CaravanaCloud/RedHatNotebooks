{
 "cells": [
  {
   "cell_type": "code",
   "execution_count": 89,
   "id": "c6ffe0d6",
   "metadata": {},
   "outputs": [
    {
     "name": "stdout",
     "output_type": "stream",
     "text": [
      "{\n",
      "    \"UserId\": \"AIDAT5TK4ZONHNABNETAH\",\n",
      "    \"Account\": \"269733383066\",\n",
      "    \"Arn\": \"arn:aws:iam::269733383066:user/jufaerma\"\n",
      "}\n"
     ]
    }
   ],
   "source": [
    "# Check AWS Authentication\n",
    "!aws sts get-caller-identity"
   ]
  },
  {
   "cell_type": "code",
   "execution_count": 90,
   "id": "aa5983d0",
   "metadata": {},
   "outputs": [
    {
     "name": "stdout",
     "output_type": "stream",
     "text": [
      "ap-northeast-1\n"
     ]
    }
   ],
   "source": [
    "# Check AWS Region\n",
    "!aws configure get region"
   ]
  },
  {
   "cell_type": "code",
   "execution_count": 91,
   "id": "7d6b558d",
   "metadata": {},
   "outputs": [
    {
     "name": "stdout",
     "output_type": "stream",
     "text": [
      "AWS Account ID:               269733383066\n",
      "AWS Default Region:           ap-northeast-1\n",
      "AWS ARN:                      arn:aws:iam::269733383066:user/jufaerma\n",
      "OCM API:                      https://api.openshift.com\n",
      "OCM Account ID:               1zXbM2cQHTP91cX7Wv8mK178ryp\n",
      "OCM Account Name:             Julio Faerman\n",
      "OCM Account Username:         faermanj\n",
      "OCM Account Email:            jufaerma@redhat.com\n",
      "OCM Organization ID:          1zXbLzxQMeUYrfYqtdpURL2t0Jq\n",
      "OCM Organization Name:        RED HAT SL\n",
      "OCM Organization External ID: 15341652\n",
      "\n"
     ]
    }
   ],
   "source": [
    "# Check ROSA Authentication\n",
    "!rosa whoami"
   ]
  },
  {
   "cell_type": "code",
   "execution_count": 92,
   "id": "ec5b2be4",
   "metadata": {},
   "outputs": [
    {
     "name": "stdout",
     "output_type": "stream",
     "text": [
      "\u001b[0;36mI:\u001b[m Logged in as 'faermanj' on 'https://api.openshift.com'\n",
      "\u001b[0;36mI:\u001b[m Validating AWS credentials...\n",
      "\u001b[0;36mI:\u001b[m AWS credentials are valid!\n",
      "\u001b[0;36mI:\u001b[m Verifying permissions for non-STS clusters\n",
      "\u001b[0;36mI:\u001b[m Validating SCP policies...\n",
      "\u001b[0;36mI:\u001b[m AWS SCP policies ok\n",
      "\u001b[0;36mI:\u001b[m Validating AWS quota...\n",
      "\u001b[0;36mI:\u001b[m AWS quota ok. If cluster installation fails, validate actual AWS resource usage against https://docs.openshift.com/rosa/rosa_getting_started/rosa-required-aws-service-quotas.html\n",
      "\u001b[0;36mI:\u001b[m Ensuring cluster administrator user 'osdCcsAdmin'...\n",
      "\u001b[0;36mI:\u001b[m Admin user 'osdCcsAdmin' already exists!\n",
      "\u001b[0;36mI:\u001b[m Validating SCP policies for 'osdCcsAdmin'...\n",
      "\u001b[0;36mI:\u001b[m AWS SCP policies ok\n",
      "\u001b[0;36mI:\u001b[m Validating cluster creation...\n",
      "\u001b[0;33mW:\u001b[m Cluster creation failed. If you create a cluster, it should fail with the following error:\n",
      "Failed to list Availability Zones on AWS using the provided credentials\n",
      "\u001b[0;36mI:\u001b[m Verifying whether OpenShift command-line tool is available...\n",
      "\u001b[0;36mI:\u001b[m Current OpenShift Client Version: 4.8.9\n"
     ]
    }
   ],
   "source": [
    "# Pre-flight checks (quotas, permissions, users, etc.)\n",
    "# https://docs.openshift.com/rosa/rosa_cli/rosa-get-started-cli.html#rosa-init_rosa-getting-started-cli\n",
    "!rosa init -y"
   ]
  },
  {
   "cell_type": "code",
   "execution_count": 3,
   "id": "e5a4f269",
   "metadata": {},
   "outputs": [
    {
     "data": {
      "text/plain": [
       "'rhoan'"
      ]
     },
     "execution_count": 3,
     "metadata": {},
     "output_type": "execute_result"
    }
   ],
   "source": [
    "# Use a unique id to identify resources)\n",
    "import os\n",
    "unique_id = os.getenv(\"UNIQUE_ID\",\"rhoan\")\n",
    "unique_id"
   ]
  },
  {
   "cell_type": "code",
   "execution_count": 6,
   "id": "aed149de",
   "metadata": {},
   "outputs": [
    {
     "data": {
      "text/plain": [
       "'rhoan-rosa'"
      ]
     },
     "execution_count": 6,
     "metadata": {},
     "output_type": "execute_result"
    }
   ],
   "source": [
    "# Define cluster name\n",
    "cluster_name= unique_id+\"-rosa\"\n",
    "cluster_name"
   ]
  },
  {
   "cell_type": "code",
   "execution_count": 97,
   "id": "0f24363f",
   "metadata": {},
   "outputs": [
    {
     "name": "stdout",
     "output_type": "stream",
     "text": [
      "\u001b[0;36mI:\u001b[m Creating cluster 'rhoan-rosa3'\n",
      "\u001b[0;36mI:\u001b[m To view a list of clusters and their status, run 'rosa list clusters'\n",
      "\u001b[0;36mI:\u001b[m Cluster 'rhoan-rosa3' has been created.\n",
      "\u001b[0;36mI:\u001b[m Once the cluster is installed you will need to add an Identity Provider before you can login into the cluster. See 'rosa create idp --help' for more information.\n",
      "\u001b[0;36mI:\u001b[m To determine when your cluster is Ready, run 'rosa describe cluster -c rhoan-rosa3'.\n",
      "\u001b[0;36mI:\u001b[m To watch your cluster installation logs, run 'rosa logs install -c rhoan-rosa3 --watch'.\n",
      "Name:                       rhoan-rosa3\n",
      "ID:                         1p94mmd07l0c4qcj2t9pmvghqgmg5icc\n",
      "External ID:                \n",
      "OpenShift Version:          \n",
      "Channel Group:              stable\n",
      "DNS:                        rhoan-rosa3.q9ma.p1.openshiftapps.com\n",
      "AWS Account:                269733383066\n",
      "API URL:                    \n",
      "Console URL:                \n",
      "Region:                     ap-northeast-1\n",
      "Multi-AZ:                   false\n",
      "Nodes:\n",
      " - Control plane:           3\n",
      " - Infra:                   2\n",
      " - Compute:                 2\n",
      "Network:\n",
      " - Service CIDR:            172.30.0.0/16\n",
      " - Machine CIDR:            10.0.0.0/16\n",
      " - Pod CIDR:                10.128.0.0/14\n",
      " - Host Prefix:             /23\n",
      "State:                      pending (Preparing account)\n",
      "Private:                    No\n",
      "Created:                    Dec 23 2021 15:44:27 UTC\n",
      "Details Page:               https://console.redhat.com/openshift/details/s/22gzxjAX6uun595Chffc1UvOMQL\n",
      "\n"
     ]
    }
   ],
   "source": [
    "# Create a cluster with default settings\n",
    "! rosa create cluster --cluster-name={cluster_name}"
   ]
  },
  {
   "cell_type": "code",
   "execution_count": 98,
   "id": "320726e8",
   "metadata": {},
   "outputs": [
    {
     "name": "stdout",
     "output_type": "stream",
     "text": [
      "\u001b[1;39m{\n",
      "  \u001b[0m\u001b[34;1m\"kind\"\u001b[0m\u001b[1;39m: \u001b[0m\u001b[0;32m\"Cluster\"\u001b[0m\u001b[1;39m,\n",
      "  \u001b[0m\u001b[34;1m\"id\"\u001b[0m\u001b[1;39m: \u001b[0m\u001b[0;32m\"1p94jufkhqq426of829hlrtljuf6phvu\"\u001b[0m\u001b[1;39m,\n",
      "  \u001b[0m\u001b[34;1m\"href\"\u001b[0m\u001b[1;39m: \u001b[0m\u001b[0;32m\"/api/clusters_mgmt/v1/clusters/1p94jufkhqq426of829hlrtljuf6phvu\"\u001b[0m\u001b[1;39m,\n",
      "  \u001b[0m\u001b[34;1m\"api\"\u001b[0m\u001b[1;39m: \u001b[0m\u001b[1;39m{\n",
      "    \u001b[0m\u001b[34;1m\"listening\"\u001b[0m\u001b[1;39m: \u001b[0m\u001b[0;32m\"external\"\u001b[0m\u001b[1;39m\n",
      "  \u001b[1;39m}\u001b[0m\u001b[1;39m,\n",
      "  \u001b[0m\u001b[34;1m\"aws\"\u001b[0m\u001b[1;39m: \u001b[0m\u001b[1;39m{\n",
      "    \u001b[0m\u001b[34;1m\"private_link\"\u001b[0m\u001b[1;39m: \u001b[0m\u001b[0;39mfalse\u001b[0m\u001b[1;39m\n",
      "  \u001b[1;39m}\u001b[0m\u001b[1;39m,\n",
      "  \u001b[0m\u001b[34;1m\"aws_infrastructure_access_role_grants\"\u001b[0m\u001b[1;39m: \u001b[0m\u001b[1;39m{\n",
      "    \u001b[0m\u001b[34;1m\"items\"\u001b[0m\u001b[1;39m: \u001b[0m\u001b[1;39m[]\u001b[0m\u001b[1;39m\n",
      "  \u001b[1;39m}\u001b[0m\u001b[1;39m,\n",
      "  \u001b[0m\u001b[34;1m\"ccs\"\u001b[0m\u001b[1;39m: \u001b[0m\u001b[1;39m{\n",
      "    \u001b[0m\u001b[34;1m\"kind\"\u001b[0m\u001b[1;39m: \u001b[0m\u001b[0;32m\"CCS\"\u001b[0m\u001b[1;39m,\n",
      "    \u001b[0m\u001b[34;1m\"disable_scp_checks\"\u001b[0m\u001b[1;39m: \u001b[0m\u001b[0;39mfalse\u001b[0m\u001b[1;39m,\n",
      "    \u001b[0m\u001b[34;1m\"enabled\"\u001b[0m\u001b[1;39m: \u001b[0m\u001b[0;39mtrue\u001b[0m\u001b[1;39m\n",
      "  \u001b[1;39m}\u001b[0m\u001b[1;39m,\n",
      "  \u001b[0m\u001b[34;1m\"dns\"\u001b[0m\u001b[1;39m: \u001b[0m\u001b[1;39m{\n",
      "    \u001b[0m\u001b[34;1m\"base_domain\"\u001b[0m\u001b[1;39m: \u001b[0m\u001b[0;32m\"h2x4.p1.openshiftapps.com\"\u001b[0m\u001b[1;39m\n",
      "  \u001b[1;39m}\u001b[0m\u001b[1;39m,\n",
      "  \u001b[0m\u001b[34;1m\"addons\"\u001b[0m\u001b[1;39m: \u001b[0m\u001b[1;39m{\n",
      "    \u001b[0m\u001b[34;1m\"items\"\u001b[0m\u001b[1;39m: \u001b[0m\u001b[1;39m[]\u001b[0m\u001b[1;39m\n",
      "  \u001b[1;39m}\u001b[0m\u001b[1;39m,\n",
      "  \u001b[0m\u001b[34;1m\"billing_model\"\u001b[0m\u001b[1;39m: \u001b[0m\u001b[0;32m\"standard\"\u001b[0m\u001b[1;39m,\n",
      "  \u001b[0m\u001b[34;1m\"cloud_provider\"\u001b[0m\u001b[1;39m: \u001b[0m\u001b[1;39m{\n",
      "    \u001b[0m\u001b[34;1m\"kind\"\u001b[0m\u001b[1;39m: \u001b[0m\u001b[0;32m\"CloudProviderLink\"\u001b[0m\u001b[1;39m,\n",
      "    \u001b[0m\u001b[34;1m\"id\"\u001b[0m\u001b[1;39m: \u001b[0m\u001b[0;32m\"aws\"\u001b[0m\u001b[1;39m,\n",
      "    \u001b[0m\u001b[34;1m\"href\"\u001b[0m\u001b[1;39m: \u001b[0m\u001b[0;32m\"/api/clusters_mgmt/v1/cloud_providers/aws\"\u001b[0m\u001b[1;39m\n",
      "  \u001b[1;39m}\u001b[0m\u001b[1;39m,\n",
      "  \u001b[0m\u001b[34;1m\"creation_timestamp\"\u001b[0m\u001b[1;39m: \u001b[0m\u001b[0;32m\"2021-12-23T15:38:35Z\"\u001b[0m\u001b[1;39m,\n",
      "  \u001b[0m\u001b[34;1m\"disable_user_workload_monitoring\"\u001b[0m\u001b[1;39m: \u001b[0m\u001b[0;39mfalse\u001b[0m\u001b[1;39m,\n",
      "  \u001b[0m\u001b[34;1m\"display_name\"\u001b[0m\u001b[1;39m: \u001b[0m\u001b[0;32m\"rhoan-rosa2\"\u001b[0m\u001b[1;39m,\n",
      "  \u001b[0m\u001b[34;1m\"etcd_encryption\"\u001b[0m\u001b[1;39m: \u001b[0m\u001b[0;39mtrue\u001b[0m\u001b[1;39m,\n",
      "  \u001b[0m\u001b[34;1m\"external_id\"\u001b[0m\u001b[1;39m: \u001b[0m\u001b[0;32m\"8fa28331-42e2-4581-b078-697374c32cf2\"\u001b[0m\u001b[1;39m,\n",
      "  \u001b[0m\u001b[34;1m\"external_configuration\"\u001b[0m\u001b[1;39m: \u001b[0m\u001b[1;39m{\n",
      "    \u001b[0m\u001b[34;1m\"labels\"\u001b[0m\u001b[1;39m: \u001b[0m\u001b[1;39m{\n",
      "      \u001b[0m\u001b[34;1m\"items\"\u001b[0m\u001b[1;39m: \u001b[0m\u001b[1;39m[]\u001b[0m\u001b[1;39m\n",
      "    \u001b[1;39m}\u001b[0m\u001b[1;39m,\n",
      "    \u001b[0m\u001b[34;1m\"syncsets\"\u001b[0m\u001b[1;39m: \u001b[0m\u001b[1;39m{\n",
      "      \u001b[0m\u001b[34;1m\"items\"\u001b[0m\u001b[1;39m: \u001b[0m\u001b[1;39m[]\u001b[0m\u001b[1;39m\n",
      "    \u001b[1;39m}\u001b[0m\u001b[1;39m\n",
      "  \u001b[1;39m}\u001b[0m\u001b[1;39m,\n",
      "  \u001b[0m\u001b[34;1m\"flavour\"\u001b[0m\u001b[1;39m: \u001b[0m\u001b[1;39m{\n",
      "    \u001b[0m\u001b[34;1m\"kind\"\u001b[0m\u001b[1;39m: \u001b[0m\u001b[0;32m\"FlavourLink\"\u001b[0m\u001b[1;39m,\n",
      "    \u001b[0m\u001b[34;1m\"id\"\u001b[0m\u001b[1;39m: \u001b[0m\u001b[0;32m\"osd-4\"\u001b[0m\u001b[1;39m,\n",
      "    \u001b[0m\u001b[34;1m\"href\"\u001b[0m\u001b[1;39m: \u001b[0m\u001b[0;32m\"/api/clusters_mgmt/v1/flavours/osd-4\"\u001b[0m\u001b[1;39m\n",
      "  \u001b[1;39m}\u001b[0m\u001b[1;39m,\n",
      "  \u001b[0m\u001b[34;1m\"groups\"\u001b[0m\u001b[1;39m: \u001b[0m\u001b[1;39m{\n",
      "    \u001b[0m\u001b[34;1m\"items\"\u001b[0m\u001b[1;39m: \u001b[0m\u001b[1;39m[]\u001b[0m\u001b[1;39m\n",
      "  \u001b[1;39m}\u001b[0m\u001b[1;39m,\n",
      "  \u001b[0m\u001b[34;1m\"identity_providers\"\u001b[0m\u001b[1;39m: \u001b[0m\u001b[1;39m{\n",
      "    \u001b[0m\u001b[34;1m\"items\"\u001b[0m\u001b[1;39m: \u001b[0m\u001b[1;39m[]\u001b[0m\u001b[1;39m\n",
      "  \u001b[1;39m}\u001b[0m\u001b[1;39m,\n",
      "  \u001b[0m\u001b[34;1m\"ingresses\"\u001b[0m\u001b[1;39m: \u001b[0m\u001b[1;39m{\n",
      "    \u001b[0m\u001b[34;1m\"items\"\u001b[0m\u001b[1;39m: \u001b[0m\u001b[1;39m[]\u001b[0m\u001b[1;39m\n",
      "  \u001b[1;39m}\u001b[0m\u001b[1;39m,\n",
      "  \u001b[0m\u001b[34;1m\"machine_pools\"\u001b[0m\u001b[1;39m: \u001b[0m\u001b[1;39m{\n",
      "    \u001b[0m\u001b[34;1m\"items\"\u001b[0m\u001b[1;39m: \u001b[0m\u001b[1;39m[]\u001b[0m\u001b[1;39m\n",
      "  \u001b[1;39m}\u001b[0m\u001b[1;39m,\n",
      "  \u001b[0m\u001b[34;1m\"managed\"\u001b[0m\u001b[1;39m: \u001b[0m\u001b[0;39mtrue\u001b[0m\u001b[1;39m,\n",
      "  \u001b[0m\u001b[34;1m\"multi_az\"\u001b[0m\u001b[1;39m: \u001b[0m\u001b[0;39mfalse\u001b[0m\u001b[1;39m,\n",
      "  \u001b[0m\u001b[34;1m\"name\"\u001b[0m\u001b[1;39m: \u001b[0m\u001b[0;32m\"rhoan-rosa2\"\u001b[0m\u001b[1;39m,\n",
      "  \u001b[0m\u001b[34;1m\"network\"\u001b[0m\u001b[1;39m: \u001b[0m\u001b[1;39m{\n",
      "    \u001b[0m\u001b[34;1m\"host_prefix\"\u001b[0m\u001b[1;39m: \u001b[0m\u001b[0;39m23\u001b[0m\u001b[1;39m,\n",
      "    \u001b[0m\u001b[34;1m\"machine_cidr\"\u001b[0m\u001b[1;39m: \u001b[0m\u001b[0;32m\"10.0.0.0/16\"\u001b[0m\u001b[1;39m,\n",
      "    \u001b[0m\u001b[34;1m\"pod_cidr\"\u001b[0m\u001b[1;39m: \u001b[0m\u001b[0;32m\"10.128.0.0/14\"\u001b[0m\u001b[1;39m,\n",
      "    \u001b[0m\u001b[34;1m\"service_cidr\"\u001b[0m\u001b[1;39m: \u001b[0m\u001b[0;32m\"172.30.0.0/16\"\u001b[0m\u001b[1;39m\n",
      "  \u001b[1;39m}\u001b[0m\u001b[1;39m,\n",
      "  \u001b[0m\u001b[34;1m\"node_drain_grace_period\"\u001b[0m\u001b[1;39m: \u001b[0m\u001b[1;39m{\n",
      "    \u001b[0m\u001b[34;1m\"unit\"\u001b[0m\u001b[1;39m: \u001b[0m\u001b[0;32m\"minutes\"\u001b[0m\u001b[1;39m,\n",
      "    \u001b[0m\u001b[34;1m\"value\"\u001b[0m\u001b[1;39m: \u001b[0m\u001b[0;39m60\u001b[0m\u001b[1;39m\n",
      "  \u001b[1;39m}\u001b[0m\u001b[1;39m,\n",
      "  \u001b[0m\u001b[34;1m\"nodes\"\u001b[0m\u001b[1;39m: \u001b[0m\u001b[1;39m{\n",
      "    \u001b[0m\u001b[34;1m\"availability_zones\"\u001b[0m\u001b[1;39m: \u001b[0m\u001b[1;39m[\n",
      "      \u001b[0;32m\"ap-northeast-1a\"\u001b[0m\u001b[1;39m\n",
      "    \u001b[1;39m]\u001b[0m\u001b[1;39m,\n",
      "    \u001b[0m\u001b[34;1m\"compute\"\u001b[0m\u001b[1;39m: \u001b[0m\u001b[0;39m2\u001b[0m\u001b[1;39m,\n",
      "    \u001b[0m\u001b[34;1m\"compute_machine_type\"\u001b[0m\u001b[1;39m: \u001b[0m\u001b[1;39m{\n",
      "      \u001b[0m\u001b[34;1m\"kind\"\u001b[0m\u001b[1;39m: \u001b[0m\u001b[0;32m\"MachineTypeLink\"\u001b[0m\u001b[1;39m,\n",
      "      \u001b[0m\u001b[34;1m\"id\"\u001b[0m\u001b[1;39m: \u001b[0m\u001b[0;32m\"m5.xlarge\"\u001b[0m\u001b[1;39m,\n",
      "      \u001b[0m\u001b[34;1m\"href\"\u001b[0m\u001b[1;39m: \u001b[0m\u001b[0;32m\"/api/clusters_mgmt/v1/machine_types/m5.xlarge\"\u001b[0m\u001b[1;39m\n",
      "    \u001b[1;39m}\u001b[0m\u001b[1;39m,\n",
      "    \u001b[0m\u001b[34;1m\"infra\"\u001b[0m\u001b[1;39m: \u001b[0m\u001b[0;39m2\u001b[0m\u001b[1;39m,\n",
      "    \u001b[0m\u001b[34;1m\"master\"\u001b[0m\u001b[1;39m: \u001b[0m\u001b[0;39m3\u001b[0m\u001b[1;39m\n",
      "  \u001b[1;39m}\u001b[0m\u001b[1;39m,\n",
      "  \u001b[0m\u001b[34;1m\"product\"\u001b[0m\u001b[1;39m: \u001b[0m\u001b[1;39m{\n",
      "    \u001b[0m\u001b[34;1m\"kind\"\u001b[0m\u001b[1;39m: \u001b[0m\u001b[0;32m\"ProductLink\"\u001b[0m\u001b[1;39m,\n",
      "    \u001b[0m\u001b[34;1m\"id\"\u001b[0m\u001b[1;39m: \u001b[0m\u001b[0;32m\"rosa\"\u001b[0m\u001b[1;39m,\n",
      "    \u001b[0m\u001b[34;1m\"href\"\u001b[0m\u001b[1;39m: \u001b[0m\u001b[0;32m\"/api/clusters_mgmt/v1/products/rosa\"\u001b[0m\u001b[1;39m\n",
      "  \u001b[1;39m}\u001b[0m\u001b[1;39m,\n",
      "  \u001b[0m\u001b[34;1m\"properties\"\u001b[0m\u001b[1;39m: \u001b[0m\u001b[1;39m{\n",
      "    \u001b[0m\u001b[34;1m\"rosa_cli_version\"\u001b[0m\u001b[1;39m: \u001b[0m\u001b[0;32m\"1.1.6\"\u001b[0m\u001b[1;39m,\n",
      "    \u001b[0m\u001b[34;1m\"rosa_creator_arn\"\u001b[0m\u001b[1;39m: \u001b[0m\u001b[0;32m\"arn:aws:iam::269733383066:user/jufaerma\"\u001b[0m\u001b[1;39m\n",
      "  \u001b[1;39m}\u001b[0m\u001b[1;39m,\n",
      "  \u001b[0m\u001b[34;1m\"region\"\u001b[0m\u001b[1;39m: \u001b[0m\u001b[1;39m{\n",
      "    \u001b[0m\u001b[34;1m\"kind\"\u001b[0m\u001b[1;39m: \u001b[0m\u001b[0;32m\"CloudRegionLink\"\u001b[0m\u001b[1;39m,\n",
      "    \u001b[0m\u001b[34;1m\"id\"\u001b[0m\u001b[1;39m: \u001b[0m\u001b[0;32m\"ap-northeast-1\"\u001b[0m\u001b[1;39m,\n",
      "    \u001b[0m\u001b[34;1m\"href\"\u001b[0m\u001b[1;39m: \u001b[0m\u001b[0;32m\"/api/clusters_mgmt/v1/cloud_providers/aws/regions/ap-northeast-1\"\u001b[0m\u001b[1;39m\n",
      "  \u001b[1;39m}\u001b[0m\u001b[1;39m,\n",
      "  \u001b[0m\u001b[34;1m\"state\"\u001b[0m\u001b[1;39m: \u001b[0m\u001b[0;32m\"installing\"\u001b[0m\u001b[1;39m,\n",
      "  \u001b[0m\u001b[34;1m\"status\"\u001b[0m\u001b[1;39m: \u001b[0m\u001b[1;39m{\n",
      "    \u001b[0m\u001b[34;1m\"kind\"\u001b[0m\u001b[1;39m: \u001b[0m\u001b[0;32m\"ClusterStatus\"\u001b[0m\u001b[1;39m,\n",
      "    \u001b[0m\u001b[34;1m\"dns_ready\"\u001b[0m\u001b[1;39m: \u001b[0m\u001b[0;39mtrue\u001b[0m\u001b[1;39m,\n",
      "    \u001b[0m\u001b[34;1m\"configuration_mode\"\u001b[0m\u001b[1;39m: \u001b[0m\u001b[0;32m\"full\"\u001b[0m\u001b[1;39m,\n",
      "    \u001b[0m\u001b[34;1m\"provision_error_code\"\u001b[0m\u001b[1;39m: \u001b[0m\u001b[0;32m\"\"\u001b[0m\u001b[1;39m,\n",
      "    \u001b[0m\u001b[34;1m\"provision_error_message\"\u001b[0m\u001b[1;39m: \u001b[0m\u001b[0;32m\"\"\u001b[0m\u001b[1;39m,\n",
      "    \u001b[0m\u001b[34;1m\"state\"\u001b[0m\u001b[1;39m: \u001b[0m\u001b[0;32m\"installing\"\u001b[0m\u001b[1;39m\n",
      "  \u001b[1;39m}\u001b[0m\u001b[1;39m,\n",
      "  \u001b[0m\u001b[34;1m\"subscription\"\u001b[0m\u001b[1;39m: \u001b[0m\u001b[1;39m{\n",
      "    \u001b[0m\u001b[34;1m\"kind\"\u001b[0m\u001b[1;39m: \u001b[0m\u001b[0;32m\"SubscriptionLink\"\u001b[0m\u001b[1;39m,\n",
      "    \u001b[0m\u001b[34;1m\"id\"\u001b[0m\u001b[1;39m: \u001b[0m\u001b[0;32m\"22gzFaQROS3qA7yYlydG33a9Z3Y\"\u001b[0m\u001b[1;39m,\n",
      "    \u001b[0m\u001b[34;1m\"href\"\u001b[0m\u001b[1;39m: \u001b[0m\u001b[0;32m\"/api/accounts_mgmt/v1/subscriptions/22gzFaQROS3qA7yYlydG33a9Z3Y\"\u001b[0m\u001b[1;39m\n",
      "  \u001b[1;39m}\u001b[0m\u001b[1;39m,\n",
      "  \u001b[0m\u001b[34;1m\"version\"\u001b[0m\u001b[1;39m: \u001b[0m\u001b[1;39m{\n",
      "    \u001b[0m\u001b[34;1m\"kind\"\u001b[0m\u001b[1;39m: \u001b[0m\u001b[0;32m\"Version\"\u001b[0m\u001b[1;39m,\n",
      "    \u001b[0m\u001b[34;1m\"id\"\u001b[0m\u001b[1;39m: \u001b[0m\u001b[0;32m\"openshift-v4.9.11\"\u001b[0m\u001b[1;39m,\n",
      "    \u001b[0m\u001b[34;1m\"href\"\u001b[0m\u001b[1;39m: \u001b[0m\u001b[0;32m\"/api/clusters_mgmt/v1/versions/openshift-v4.9.11\"\u001b[0m\u001b[1;39m,\n",
      "    \u001b[0m\u001b[34;1m\"channel_group\"\u001b[0m\u001b[1;39m: \u001b[0m\u001b[0;32m\"stable\"\u001b[0m\u001b[1;39m,\n",
      "    \u001b[0m\u001b[34;1m\"end_of_life_timestamp\"\u001b[0m\u001b[1;39m: \u001b[0m\u001b[0;32m\"2022-07-18T00:00:00Z\"\u001b[0m\u001b[1;39m,\n",
      "    \u001b[0m\u001b[34;1m\"raw_id\"\u001b[0m\u001b[1;39m: \u001b[0m\u001b[0;32m\"4.9.11\"\u001b[0m\u001b[1;39m\n",
      "  \u001b[1;39m}\u001b[0m\u001b[1;39m\n",
      "\u001b[1;39m}\u001b[0m\n"
     ]
    }
   ],
   "source": [
    "! rosa list clusters --output json | jq -r '.[0]'"
   ]
  },
  {
   "cell_type": "code",
   "execution_count": 103,
   "id": "052979fb",
   "metadata": {},
   "outputs": [
    {
     "data": {
      "text/plain": [
       "'ready'"
      ]
     },
     "execution_count": 103,
     "metadata": {},
     "output_type": "execute_result"
    }
   ],
   "source": [
    "# Wait until cluster is ready\n",
    "# TODO: Use waiter from https://github.com/openshift/rosa/pull/503\n",
    "# rosa wait-for -c id42-cluster\n",
    "states=! rosa list clusters --output json | jq -r \".[].status.state\"\n",
    "states=states.s\n",
    "states"
   ]
  },
  {
   "cell_type": "markdown",
   "id": "f7122d6c",
   "metadata": {},
   "source": [
    "Installing a cluster with default settings takes around half an hour.\n",
    "\n",
    "Good time to watch a video on the [OpenShift Youtube channel](https://www.youtube.com/c/OpenShift) :)"
   ]
  },
  {
   "cell_type": "code",
   "execution_count": 106,
   "id": "f6e082b0",
   "metadata": {},
   "outputs": [
    {
     "name": "stdout",
     "output_type": "stream",
     "text": [
      "\u001b[0;33mW:\u001b[m It is recommended to add an identity provider to login to this cluster. See 'rosa create idp --help' for more information.\n",
      "\u001b[0;36mI:\u001b[m Admin account has been added to cluster 'rhoan-rosa2'.\n",
      "\u001b[0;36mI:\u001b[m Please securely store this generated password. If you lose this password you can delete and recreate the cluster admin user.\n",
      "\u001b[0;36mI:\u001b[m To login, run the following command:\n",
      "\n",
      "   oc login https://api.rhoan-rosa2.h2x4.p1.openshiftapps.com:6443 --username cluster-admin --password YTxR8-eqkRm-YpIbV-sxGJs\n",
      "\n",
      "\u001b[0;36mI:\u001b[m It may take up to a minute for the account to become active.\n"
     ]
    }
   ],
   "source": [
    "# Create admin user\n",
    "# TODO: Use password option from PR (-p Masterkey123)\n",
    "! rosa create admin --cluster=\"{cluster_name}\" | tee create_admin.log"
   ]
  },
  {
   "cell_type": "code",
   "execution_count": 107,
   "id": "0d55ca91",
   "metadata": {},
   "outputs": [
    {
     "name": "stdout",
     "output_type": "stream",
     "text": [
      "\u001b[0;36mI:\u001b[m Admin account has been added to cluster 'rhoan-rosa2'.\n",
      "\u001b[0;36mI:\u001b[m Please securely store this generated password. If you lose this password you can delete and recreate the cluster admin user.\n",
      "\u001b[0;36mI:\u001b[m To login, run the following command:\n",
      "\n",
      "   oc login https://api.rhoan-rosa2.h2x4.p1.openshiftapps.com:6443 --username cluster-admin --password YTxR8-eqkRm-YpIbV-sxGJs\n",
      "\n",
      "\u001b[0;36mI:\u001b[m It may take up to a minute for the account to become active.\n"
     ]
    }
   ],
   "source": [
    "# Check login command\n",
    "# TODO: Use choice of password\n",
    "!cat create_admin.log "
   ]
  },
  {
   "cell_type": "code",
   "execution_count": 108,
   "id": "0d55ca91",
   "metadata": {},
   "outputs": [
    {
     "name": "stdout",
     "output_type": "stream",
     "text": [
      "\u001b[0;36mI:\u001b[m Admin account has been added to cluster 'rhoan-rosa2'.\n",
      "\u001b[0;36mI:\u001b[m Please securely store this generated password. If you lose this password you can delete and recreate the cluster admin user.\n",
      "\u001b[0;36mI:\u001b[m To login, run the following command:\n",
      "\n",
      "   oc login https://api.rhoan-rosa2.h2x4.p1.openshiftapps.com:6443 --username cluster-admin --password YTxR8-eqkRm-YpIbV-sxGJs\n",
      "\n",
      "\u001b[0;36mI:\u001b[m It may take up to a minute for the account to become active.\n"
     ]
    }
   ],
   "source": [
    "# Check login command\n",
    "# TODO: Use choice of password\n",
    "!cat create_admin.log "
   ]
  },
  {
   "cell_type": "code",
   "execution_count": 20,
   "id": "6cf763b2",
   "metadata": {},
   "outputs": [],
   "source": [
    "# Wait for admin user to be active, usually takes a couple minutes\n",
    "# TODO: Add a waiter command for that"
   ]
  },
  {
   "cell_type": "code",
   "execution_count": 121,
   "id": "1f8991a6",
   "metadata": {},
   "outputs": [
    {
     "name": "stdout",
     "output_type": "stream",
     "text": [
      "Login successful.\n",
      "\n",
      "You have access to 90 projects, the list has been suppressed. You can list all projects with 'oc projects'\n",
      "\n",
      "Using project \"default\".\n"
     ]
    }
   ],
   "source": [
    "# Login ( --insecure-skip-tls-verify=true)\n",
    "! oc login https://api.rhoan-rosa2.h2x4.p1.openshiftapps.com:6443 --username cluster-admin --password YTxR8-eqkRm-YpIbV-sxGJs  --insecure-skip-tls-verify=true"
   ]
  },
  {
   "cell_type": "code",
   "execution_count": 122,
   "id": "3f7a9442",
   "metadata": {},
   "outputs": [
    {
     "name": "stdout",
     "output_type": "stream",
     "text": [
      "cluster-admin\n"
     ]
    }
   ],
   "source": [
    "# Verify cluster authentication\n",
    "! oc whoami"
   ]
  },
  {
   "cell_type": "code",
   "execution_count": 123,
   "id": "58ec6012",
   "metadata": {},
   "outputs": [
    {
     "name": "stdout",
     "output_type": "stream",
     "text": [
      "Client Version: 4.8.9\n",
      "Server Version: 4.9.11\n",
      "Kubernetes Version: v1.22.3+ffbb954\n"
     ]
    }
   ],
   "source": [
    "!oc version"
   ]
  },
  {
   "cell_type": "code",
   "execution_count": 124,
   "id": "c7cbce9e",
   "metadata": {},
   "outputs": [
    {
     "name": "stdout",
     "output_type": "stream",
     "text": [
      "In project default on server https://api.rhoan-rosa2.h2x4.p1.openshiftapps.com:6443\n",
      "\n",
      "svc/openshift - kubernetes.default.svc.cluster.local\n",
      "svc/kubernetes - 172.30.0.1:443 -> 6443\n",
      "\n",
      "View details with 'oc describe <resource>/<name>' or list resources with 'oc get all'.\n"
     ]
    }
   ],
   "source": [
    "!oc status"
   ]
  },
  {
   "cell_type": "code",
   "execution_count": 24,
   "id": "57f52936",
   "metadata": {},
   "outputs": [
    {
     "name": "stdout",
     "output_type": "stream",
     "text": [
      "NAME                                              STATUS   ROLES          AGE    VERSION\n",
      "ip-10-0-129-63.ap-northeast-1.compute.internal    Ready    master         135m   v1.22.3+ffbb954\n",
      "ip-10-0-138-238.ap-northeast-1.compute.internal   Ready    master         135m   v1.22.3+ffbb954\n",
      "ip-10-0-165-234.ap-northeast-1.compute.internal   Ready    worker         127m   v1.22.3+ffbb954\n",
      "ip-10-0-196-164.ap-northeast-1.compute.internal   Ready    worker         126m   v1.22.3+ffbb954\n",
      "ip-10-0-212-2.ap-northeast-1.compute.internal     Ready    infra,worker   114m   v1.22.3+ffbb954\n",
      "ip-10-0-233-125.ap-northeast-1.compute.internal   Ready    master         135m   v1.22.3+ffbb954\n",
      "ip-10-0-236-126.ap-northeast-1.compute.internal   Ready    infra,worker   114m   v1.22.3+ffbb954\n"
     ]
    }
   ],
   "source": [
    "# Check running resources\n",
    "!oc get nodes"
   ]
  },
  {
   "cell_type": "code",
   "execution_count": 25,
   "id": "ba351c3e",
   "metadata": {},
   "outputs": [],
   "source": [
    "# Decomissioning"
   ]
  },
  {
   "cell_type": "code",
   "execution_count": 7,
   "id": "b95d11fa",
   "metadata": {},
   "outputs": [
    {
     "name": "stdout",
     "output_type": "stream",
     "text": [
      "\u001b[0;36mI:\u001b[m Cluster 'rhoan-rosa' will start uninstalling now\n",
      "\u001b[0;36mI:\u001b[m To watch your cluster uninstallation logs, run 'rosa logs uninstall -c rhoan-rosa --watch'\n"
     ]
    }
   ],
   "source": [
    "# delete cluster\n",
    "!rosa delete cluster -y -c \"{cluster_name}\""
   ]
  },
  {
   "cell_type": "code",
   "execution_count": 1,
   "id": "eff9a756",
   "metadata": {},
   "outputs": [
    {
     "name": "stdout",
     "output_type": "stream",
     "text": [
      "\u001b[0;36mI:\u001b[m Logged in as 'faermanj' on 'https://api.openshift.com'\n",
      "\u001b[0;36mI:\u001b[m Validating AWS credentials...\n",
      "\u001b[0;36mI:\u001b[m AWS credentials are valid!\n",
      "\u001b[0;36mI:\u001b[m Deleting cluster administrator user 'osdCcsAdmin'...\n",
      "\u001b[0;31mE:\u001b[m Failed to delete 'osdCcsAdmin': User still has clusters\n"
     ]
    }
   ],
   "source": [
    "#  delete IAM admin user\n",
    "!rosa init -y --delete"
   ]
  },
  {
   "cell_type": "code",
   "execution_count": null,
   "id": "9c6273b0-29cc-449d-a20c-247bbe72adf4",
   "metadata": {},
   "outputs": [],
   "source": []
  }
 ],
 "metadata": {
  "kernelspec": {
   "display_name": "Python 3 (ipykernel)",
   "language": "python",
   "name": "python3"
  },
  "language_info": {
   "codemirror_mode": {
    "name": "ipython",
    "version": 3
   },
   "file_extension": ".py",
   "mimetype": "text/x-python",
   "name": "python",
   "nbconvert_exporter": "python",
   "pygments_lexer": "ipython3",
   "version": "3.6.8"
  }
 },
 "nbformat": 4,
 "nbformat_minor": 5
}
