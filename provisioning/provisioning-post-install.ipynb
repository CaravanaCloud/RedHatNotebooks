{
 "cells": [
  {
   "cell_type": "code",
   "execution_count": 4,
   "metadata": {},
   "outputs": [
    {
     "name": "stdout",
     "output_type": "stream",
     "text": [
      "Now using project \"rhoan\" on server \"https://api.rhoan-rosa2.h2x4.p1.openshiftapps.com:6443\".\n",
      "\n",
      "You can add applications to this project with the 'new-app' command. For example, try:\n",
      "\n",
      "    oc new-app rails-postgresql-example\n",
      "\n",
      "to build a new example application in Ruby. Or use kubectl to deploy a simple Kubernetes application:\n",
      "\n",
      "    kubectl create deployment hello-node --image=k8s.gcr.io/serve_hostname\n",
      "\n"
     ]
    }
   ],
   "source": [
    "# Create new project\n",
    "! oc new-project rhoan"
   ]
  },
  {
   "cell_type": "code",
   "execution_count": 1,
   "metadata": {},
   "outputs": [
    {
     "name": "stdout",
     "output_type": "stream",
     "text": [
      "oc create secret docker-registry dockersecret --docker-server=docker.io --docker-username= --docker-password= --docker-email=\n"
     ]
    }
   ],
   "source": [
    "# Create docker secret\n",
    "! echo oc create secret docker-registry dockersecret \\\n",
    "    --docker-server=\"docker.io\" \\\n",
    "    --docker-username=\"$DOCKER_USERNAME\" \\\n",
    "    --docker-password=\"$DOCKER_PASSWORD\" \\\n",
    "    --docker-email=\"$DOCKER_EMAIL\""
   ]
  },
  {
   "cell_type": "code",
   "execution_count": 3,
   "metadata": {},
   "outputs": [],
   "source": [
    "# Set docker credentials for project\n",
    "! oc secrets link default dockersecret --for=pull --namespace=rhoan"
   ]
  },
  {
   "cell_type": "code",
   "execution_count": null,
   "metadata": {},
   "outputs": [],
   "source": [
    "#TODO: Verify docker authentication"
   ]
  },
  {
   "cell_type": "code",
   "execution_count": 11,
   "metadata": {},
   "outputs": [
    {
     "name": "stdout",
     "output_type": "stream",
     "text": [
      "secret \"dockersecret\" deleted\n"
     ]
    }
   ],
   "source": [
    "! oc delete secret dockersecret"
   ]
  },
  {
   "cell_type": "code",
   "execution_count": 13,
   "metadata": {},
   "outputs": [
    {
     "name": "stdout",
     "output_type": "stream",
     "text": [
      "You must obtain an API token by visiting https://oauth-openshift.apps.rhoan-cluster.iyei.p1.openshiftapps.com/oauth/token/request\n"
     ]
    }
   ],
   "source": []
  },
  {
   "cell_type": "code",
   "execution_count": null,
   "metadata": {},
   "outputs": [],
   "source": []
  }
 ],
 "metadata": {
  "interpreter": {
   "hash": "31f2aee4e71d21fbe5cf8b01ff0e069b9275f58929596ceb00d14d90e3e16cd6"
  },
  "kernelspec": {
   "display_name": "",
   "language": "python",
   "name": "python3"
  },
  "language_info": {
   "codemirror_mode": {
    "name": "ipython",
    "version": 3
   },
   "file_extension": ".py",
   "mimetype": "text/x-python",
   "name": "python",
   "nbconvert_exporter": "python",
   "pygments_lexer": "ipython3",
   "version": "3.6.8"
  },
  "orig_nbformat": 4
 },
 "nbformat": 4,
 "nbformat_minor": 2
}
