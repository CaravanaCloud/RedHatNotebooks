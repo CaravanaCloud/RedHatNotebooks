{
 "cells": [
  {
   "cell_type": "code",
   "execution_count": 2,
   "metadata": {},
   "outputs": [
    {
     "name": "stdout",
     "output_type": "stream",
     "text": [
      "persistentvolume/mysql-pv-volume created\n",
      "persistentvolumeclaim/mysql-pv-claim created\n"
     ]
    }
   ],
   "source": [
    "!oc apply -f mysql-single-pv.yaml"
   ]
  },
  {
   "cell_type": "code",
   "execution_count": 9,
   "metadata": {},
   "outputs": [
    {
     "name": "stdout",
     "output_type": "stream",
     "text": [
      "service/mysql unchanged\n",
      "deployment.apps/mysql configured\n"
     ]
    }
   ],
   "source": [
    "!oc apply -f mysql-single.yaml"
   ]
  },
  {
   "cell_type": "code",
   "execution_count": 10,
   "metadata": {},
   "outputs": [
    {
     "name": "stdout",
     "output_type": "stream",
     "text": [
      "NAME            TYPE        CLUSTER-IP   EXTERNAL-IP   PORT(S)    AGE\n",
      "service/mysql   ClusterIP   None         <none>        3306/TCP   3m16s\n",
      "\n",
      "NAME                    READY   UP-TO-DATE   AVAILABLE   AGE\n",
      "deployment.apps/mysql   0/1     0            0           3m16s\n",
      "\n",
      "NAME                               DESIRED   CURRENT   READY   AGE\n",
      "replicaset.apps/mysql-599b7649d8   1         0         0       3m17s\n"
     ]
    }
   ],
   "source": [
    "!oc get all"
   ]
  },
  {
   "cell_type": "code",
   "execution_count": 12,
   "metadata": {},
   "outputs": [
    {
     "name": "stdout",
     "output_type": "stream",
     "text": [
      "error: expected 'logs [-f] [-p] (POD | TYPE/NAME) [-c CONTAINER]'.\n",
      "POD or TYPE/NAME is a required argument for the logs command\n",
      "See 'oc logs -h' for help and examples\n"
     ]
    }
   ],
   "source": [
    "!oc logs"
   ]
  },
  {
   "cell_type": "code",
   "execution_count": null,
   "metadata": {},
   "outputs": [],
   "source": []
  }
 ],
 "metadata": {
  "interpreter": {
   "hash": "31f2aee4e71d21fbe5cf8b01ff0e069b9275f58929596ceb00d14d90e3e16cd6"
  },
  "kernelspec": {
   "display_name": "",
   "language": "python",
   "name": "python3"
  },
  "language_info": {
   "codemirror_mode": {
    "name": "ipython",
    "version": 3
   },
   "file_extension": ".py",
   "mimetype": "text/x-python",
   "name": "python",
   "nbconvert_exporter": "python",
   "pygments_lexer": "ipython3",
   "version": "3.6.8"
  },
  "orig_nbformat": 4
 },
 "nbformat": 4,
 "nbformat_minor": 2
}
