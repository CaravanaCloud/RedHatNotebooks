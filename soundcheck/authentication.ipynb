{
 "cells": [
  {
   "cell_type": "code",
   "execution_count": null,
   "metadata": {},
   "outputs": [],
   "source": [
    "# Enter your AWS Credentials\n",
    "# To generate new IAM credentials, go to:\n",
    "# https://console.aws.amazon.com/iamv2/home#/users\n",
    "# or\n",
    "# https://console.aws.amazon.com/iam/home?#/users/USERNAME\n",
    "#\n",
    "# To copy existing CLI credentials:\n",
    "# $ aws configure get aws_access_key_id\n",
    "# $ aws configure get aws_secret_access_key\n",
    "# $ aws configure get region\n",
    "aws_access_key_id=input(\"AWS Access Key Id: \")\n",
    "aws_secret_access_key=input(\"AWS Secret Key: \")\n",
    "region=input(\"AWS Region: \")\n",
    "(aws_access_key_id, aws_secret_access_key, region)"
   ]
  },
  {
   "cell_type": "code",
   "execution_count": null,
   "metadata": {},
   "outputs": [],
   "source": [
    "# Configure the AWS CLI client\n",
    "!aws configure set aws_access_key_id {aws_access_key_id}\n",
    "!aws configure set aws_secret_access_key {aws_secret_access_key}\n",
    "!aws configure set region {region}"
   ]
  },
  {
   "cell_type": "code",
   "execution_count": 2,
   "metadata": {},
   "outputs": [
    {
     "name": "stdout",
     "output_type": "stream",
     "text": [
      "{\n",
      "    \"UserId\": \"AIDAT5TK4ZONHNABNETAH\",\n",
      "    \"Account\": \"269733383066\",\n",
      "    \"Arn\": \"arn:aws:iam::269733383066:user/jufaerma\"\n",
      "}\n"
     ]
    }
   ],
   "source": [
    "# Check AWS Authentication\n",
    "!aws sts get-caller-identity"
   ]
  },
  {
   "cell_type": "code",
   "execution_count": null,
   "metadata": {},
   "outputs": [],
   "source": [
    "# Enter your (Red Hat OpenShift on AWS) ROSA API Token\n",
    "# https://console.redhat.com/openshift/token/rosa/show\n",
    "rosa_token=input(\"ROSA Token: \")"
   ]
  },
  {
   "cell_type": "code",
   "execution_count": null,
   "metadata": {},
   "outputs": [],
   "source": [
    "# Login with ROSA token\n",
    "!rosa login --token={rosa_token}"
   ]
  },
  {
   "cell_type": "code",
   "execution_count": 3,
   "metadata": {},
   "outputs": [
    {
     "name": "stdout",
     "output_type": "stream",
     "text": [
      "AWS Account ID:               269733383066\n",
      "AWS Default Region:           ap-northeast-1\n",
      "AWS ARN:                      arn:aws:iam::269733383066:user/jufaerma\n",
      "OCM API:                      https://api.openshift.com\n",
      "OCM Account ID:               1zXbM2cQHTP91cX7Wv8mK178ryp\n",
      "OCM Account Name:             Julio Faerman\n",
      "OCM Account Username:         faermanj\n",
      "OCM Account Email:            jufaerma@redhat.com\n",
      "OCM Organization ID:          1zXbLzxQMeUYrfYqtdpURL2t0Jq\n",
      "OCM Organization Name:        RED HAT SL\n",
      "OCM Organization External ID: 15341652\n",
      "\n"
     ]
    }
   ],
   "source": [
    "# Check ROSA Authentication\n",
    "!rosa whoami"
   ]
  }
 ],
 "metadata": {
  "interpreter": {
   "hash": "31f2aee4e71d21fbe5cf8b01ff0e069b9275f58929596ceb00d14d90e3e16cd6"
  },
  "kernelspec": {
   "display_name": "",
   "language": "python",
   "name": "python3"
  },
  "language_info": {
   "codemirror_mode": {
    "name": "ipython",
    "version": 3
   },
   "file_extension": ".py",
   "mimetype": "text/x-python",
   "name": "python",
   "nbconvert_exporter": "python",
   "pygments_lexer": "ipython3",
   "version": "3.6.8"
  },
  "orig_nbformat": 4
 },
 "nbformat": 4,
 "nbformat_minor": 2
}
