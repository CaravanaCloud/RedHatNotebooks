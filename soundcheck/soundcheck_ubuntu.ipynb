{
 "cells": [
  {
   "cell_type": "code",
   "execution_count": 1,
   "id": "05fceb4e-a9cf-4713-8e2c-c7b649d4b7a6",
   "metadata": {},
   "outputs": [
    {
     "name": "stdout",
     "output_type": "stream",
     "text": [
      "Hit:1 http://archive.ubuntu.com/ubuntu focal InRelease\n",
      "Hit:2 http://security.ubuntu.com/ubuntu focal-security InRelease\n",
      "Hit:3 http://archive.ubuntu.com/ubuntu focal-updates InRelease\n",
      "Hit:4 http://archive.ubuntu.com/ubuntu focal-backports InRelease\n",
      "Reading package lists... Done3m\u001b[33m\n",
      "Building dependency tree       \n",
      "Reading state information... Done\n",
      "64 packages can be upgraded. Run 'apt list --upgradable' to see them.\n"
     ]
    }
   ],
   "source": [
    "!sudo apt update"
   ]
  },
  {
   "cell_type": "code",
   "execution_count": 2,
   "id": "f5a6f043-0def-464d-b939-9a6b4553e6d8",
   "metadata": {},
   "outputs": [
    {
     "name": "stdout",
     "output_type": "stream",
     "text": [
      "Reading package lists... Done\n",
      "Building dependency tree       \n",
      "Reading state information... Done\n",
      "The following additional packages will be installed:\n",
      "  libjq1 libonig5\n",
      "The following NEW packages will be installed:\n",
      "  jq libjq1 libonig5\n",
      "0 upgraded, 3 newly installed, 0 to remove and 64 not upgraded.\n",
      "Need to get 313 kB of archives.\n",
      "After this operation, 1,062 kB of additional disk space will be used.\n",
      "Get:1 http://archive.ubuntu.com/ubuntu focal/universe amd64 libonig5 amd64 6.9.4-1 [142 kB]\n",
      "Get:2 http://archive.ubuntu.com/ubuntu focal-updates/universe amd64 libjq1 amd64 1.6-1ubuntu0.20.04.1 [121 kB]\n",
      "Get:3 http://archive.ubuntu.com/ubuntu focal-updates/universe amd64 jq amd64 1.6-1ubuntu0.20.04.1 [50.2 kB]\n",
      "Fetched 313 kB in 0s (819 kB/s)[0m\u001b[33m\n",
      "debconf: delaying package configuration, since apt-utils is not installed\n",
      "\n",
      "\u001b7\u001b[0;23r\u001b8\u001b[1ASelecting previously unselected package libonig5:amd64.\n",
      "(Reading database ... 60637 files and directories currently installed.)\n",
      "Preparing to unpack .../libonig5_6.9.4-1_amd64.deb ...\n",
      "\u001b7\u001b[24;0f\u001b[42m\u001b[30mProgress: [  0%]\u001b[49m\u001b[39m [..........................................................] \u001b8\u001b7\u001b[24;0f\u001b[42m\u001b[30mProgress: [  8%]\u001b[49m\u001b[39m [####......................................................] \u001b8Unpacking libonig5:amd64 (6.9.4-1) ...\n",
      "\u001b7\u001b[24;0f\u001b[42m\u001b[30mProgress: [ 15%]\u001b[49m\u001b[39m [########..................................................] \u001b8Selecting previously unselected package libjq1:amd64.\n",
      "Preparing to unpack .../libjq1_1.6-1ubuntu0.20.04.1_amd64.deb ...\n",
      "\u001b7\u001b[24;0f\u001b[42m\u001b[30mProgress: [ 23%]\u001b[49m\u001b[39m [#############.............................................] \u001b8Unpacking libjq1:amd64 (1.6-1ubuntu0.20.04.1) ...\n",
      "\u001b7\u001b[24;0f\u001b[42m\u001b[30mProgress: [ 31%]\u001b[49m\u001b[39m [#################.........................................] \u001b8Selecting previously unselected package jq.\n",
      "Preparing to unpack .../jq_1.6-1ubuntu0.20.04.1_amd64.deb ...\n",
      "\u001b7\u001b[24;0f\u001b[42m\u001b[30mProgress: [ 38%]\u001b[49m\u001b[39m [######################....................................] \u001b8Unpacking jq (1.6-1ubuntu0.20.04.1) ...\n",
      "\u001b7\u001b[24;0f\u001b[42m\u001b[30mProgress: [ 46%]\u001b[49m\u001b[39m [##########################................................] \u001b8Setting up libonig5:amd64 (6.9.4-1) ...\n",
      "\u001b7\u001b[24;0f\u001b[42m\u001b[30mProgress: [ 54%]\u001b[49m\u001b[39m [###############################...........................] \u001b8\u001b7\u001b[24;0f\u001b[42m\u001b[30mProgress: [ 62%]\u001b[49m\u001b[39m [###################################.......................] \u001b8Setting up libjq1:amd64 (1.6-1ubuntu0.20.04.1) ...\n",
      "\u001b7\u001b[24;0f\u001b[42m\u001b[30mProgress: [ 69%]\u001b[49m\u001b[39m [########################################..................] \u001b8\u001b7\u001b[24;0f\u001b[42m\u001b[30mProgress: [ 77%]\u001b[49m\u001b[39m [############################################..............] \u001b8Setting up jq (1.6-1ubuntu0.20.04.1) ...\n",
      "\u001b7\u001b[24;0f\u001b[42m\u001b[30mProgress: [ 85%]\u001b[49m\u001b[39m [#################################################.........] \u001b8\u001b7\u001b[24;0f\u001b[42m\u001b[30mProgress: [ 92%]\u001b[49m\u001b[39m [#####################################################.....] \u001b8Processing triggers for libc-bin (2.31-0ubuntu9.2) ...\n",
      "\n",
      "\u001b7\u001b[0;24r\u001b8\u001b[1A\u001b[J"
     ]
    }
   ],
   "source": [
    "!sudo apt -y install jq"
   ]
  },
  {
   "cell_type": "code",
   "execution_count": 3,
   "id": "3ac3959f-7a86-4284-886c-0f0cbb430d80",
   "metadata": {},
   "outputs": [
    {
     "name": "stdout",
     "output_type": "stream",
     "text": [
      "  % Total    % Received % Xferd  Average Speed   Time    Time     Time  Current\n",
      "                                 Dload  Upload   Total   Spent    Left  Speed\n",
      "100 43.3M  100 43.3M    0     0  8583k      0  0:00:05  0:00:05 --:--:-- 9408k 0:00:05  0:00:03  0:00:02 7951k\n",
      "You can now run: /usr/local/bin/aws --version\n"
     ]
    }
   ],
   "source": [
    "# Install AWS CLI\n",
    "!mkdir -p /tmp/splat\n",
    "!rm -rf /tmp/splat/awscliv2.zip\n",
    "!curl \"https://awscli.amazonaws.com/awscli-exe-linux-x86_64.zip\" -o \"/tmp/splat/awscliv2.zip\"\n",
    "!unzip -o -q /tmp/splat/awscliv2.zip -d /tmp/splat/\n",
    "!sudo /tmp/splat/aws/install --update\n",
    "!rm -rf /tmp/splat/awscliv2.zip"
   ]
  },
  {
   "cell_type": "code",
   "execution_count": 4,
   "id": "20532ab4-5370-4eb7-b0aa-b229718c8c5b",
   "metadata": {},
   "outputs": [
    {
     "name": "stdout",
     "output_type": "stream",
     "text": [
      "aws-cli/2.4.5 Python/3.8.8 Linux/4.18.0-305.25.1.el8_4.x86_64 exe/x86_64.ubuntu.20 prompt/off\n"
     ]
    }
   ],
   "source": [
    "!aws --version"
   ]
  },
  {
   "cell_type": "code",
   "execution_count": 5,
   "id": "7a611397-dc9b-4666-9300-33e55a15c88a",
   "metadata": {},
   "outputs": [
    {
     "name": "stdout",
     "output_type": "stream",
     "text": [
      "env: ROSA_URL=https://mirror.openshift.com/pub/openshift-v4/x86_64/clients/rosa/latest/rosa-linux.tar.gz\n",
      "--2021-12-08 14:49:19--  https://mirror.openshift.com/pub/openshift-v4/x86_64/clients/rosa/latest/rosa-linux.tar.gz\n",
      "Resolving mirror.openshift.com (mirror.openshift.com)... 54.172.163.83\n",
      "Connecting to mirror.openshift.com (mirror.openshift.com)|54.172.163.83|:443... connected.\n",
      "HTTP request sent, awaiting response... 200 OK\n",
      "Length: 16941326 (16M) [application/x-gzip]\n",
      "Saving to: ‘/tmp/rosa/rosa-linux.tar.gz’\n",
      "\n",
      "/tmp/rosa/rosa-linu 100%[===================>]  16.16M  3.85MB/s    in 5.8s    \n",
      "\n",
      "2021-12-08 14:49:25 (2.78 MB/s) - ‘/tmp/rosa/rosa-linux.tar.gz’ saved [16941326/16941326]\n",
      "\n",
      "rosa\n",
      "rosa  rosa-linux.tar.gz\n"
     ]
    }
   ],
   "source": [
    "# Install ROSA CLI\n",
    "%env ROSA_URL https://mirror.openshift.com/pub/openshift-v4/x86_64/clients/rosa/latest/rosa-linux.tar.gz\n",
    "! mkdir -p /tmp/rosa/\n",
    "! wget -O /tmp/rosa/rosa-linux.tar.gz $ROSA_URL\n",
    "! tar zxvf /tmp/rosa/rosa-linux.tar.gz -C  /tmp/rosa/\n",
    "! ls /tmp/rosa/\n",
    "! sudo mv  /tmp/rosa/rosa /usr/local/bin/ \n",
    "! rm /tmp/rosa/rosa-linux.tar.gz"
   ]
  },
  {
   "cell_type": "code",
   "execution_count": 6,
   "id": "f6017135-71f5-4b55-8562-27aacff00679",
   "metadata": {},
   "outputs": [
    {
     "name": "stdout",
     "output_type": "stream",
     "text": [
      "1.1.5\n"
     ]
    }
   ],
   "source": [
    "!rosa version "
   ]
  },
  {
   "cell_type": "code",
   "execution_count": 7,
   "id": "10204965-0cc6-445e-ad59-3535db73511b",
   "metadata": {},
   "outputs": [
    {
     "name": "stdout",
     "output_type": "stream",
     "text": [
      "\u001b[0;36mI:\u001b[m Verifying whether OpenShift command-line tool is available...\n",
      "\u001b[0;33mW:\u001b[m OpenShift command-line tool is not installed.\n",
      "Run 'rosa download oc' to download the latest version, then add it to your PATH.\n",
      "\u001b[0;36mI:\u001b[m Downloading https://mirror.openshift.com/pub/openshift-v4/clients/ocp/latest/openshift-client-linux.tar.gz\n",
      "Downloading... 49 MB complete      \n",
      "\u001b[0;36mI:\u001b[m Successfully downloaded openshift-client-linux.tar.gz\n",
      "README.md\n",
      "oc\n",
      "kubectl\n"
     ]
    }
   ],
   "source": [
    "!rosa download oc\n",
    "!sudo tar zxvf openshift-client-linux.tar.gz -C /usr/local/bin"
   ]
  },
  {
   "cell_type": "code",
   "execution_count": 8,
   "id": "8d0e069a-1dc5-4291-b8b6-2bd63d56ec67",
   "metadata": {},
   "outputs": [
    {
     "name": "stdout",
     "output_type": "stream",
     "text": [
      "101136445 695\n"
     ]
    }
   ],
   "source": [
    "# Ensures ROSA_TOKEN is present in environment\n",
    "# Get your token at:\n",
    "# https://console.redhat.com/openshift/token/rosa/show\n",
    "!echo $ROSA_TOKEN | cksum"
   ]
  },
  {
   "cell_type": "code",
   "execution_count": 9,
   "id": "fd4779ae-d6bf-456e-9316-3276b6a59788",
   "metadata": {},
   "outputs": [
    {
     "name": "stdout",
     "output_type": "stream",
     "text": [
      "\u001b[0;36mI:\u001b[m Logged in as 'faermanj' on 'https://api.openshift.com'\n"
     ]
    }
   ],
   "source": [
    "!rosa login --token=$ROSA_TOKEN"
   ]
  },
  {
   "cell_type": "code",
   "execution_count": null,
   "id": "7e3d450c",
   "metadata": {},
   "outputs": [
    {
     "name": "stdout",
     "output_type": "stream",
     "text": [
      "openshift-install create install-config --dir .install_id42e\n"
     ]
    }
   ],
   "source": [
    "# ! echo openshift-install create install-config --dir \".install_$UNIQ\""
   ]
  },
  {
   "cell_type": "code",
   "execution_count": null,
   "id": "87fe23b4-dc7c-4dad-9d53-db377d38f5db",
   "metadata": {},
   "outputs": [
    {
     "name": "stdout",
     "output_type": "stream",
     "text": [
      "--2021-12-08 17:07:34--  https://mirror.openshift.com/pub/openshift-v4/x86_64/clients/ocp/latest/openshift-install-linux.tar.gz\n",
      "Resolving mirror.openshift.com (mirror.openshift.com)... 54.172.173.155\n",
      "Connecting to mirror.openshift.com (mirror.openshift.com)|54.172.173.155|:443... connected.\n",
      "HTTP request sent, awaiting response... 200 OK\n",
      "Length: 104251377 (99M) [application/x-gzip]\n",
      "Saving to: ‘/tmp/splat/openshift-install-linux.tar.gz’\n",
      "\n",
      ".tar.gz              51%[=========>          ]  50.91M  6.62MB/s    eta 10s    "
     ]
    }
   ],
   "source": [
    "%env INSTALLER_URL https://mirror.openshift.com/pub/openshift-v4/x86_64/clients/ocp/latest/openshift-install-linux.tar.gz\n",
    "! mkdir -p /tmp/splat/\n",
    "! wget -O /tmp/splat/openshift-install-linux.tar.gz $INSTALLER_URL\n",
    "! tar zxvf /tmp/splat/openshift-install-linux.tar.gz -C  /tmp/splat/\n",
    "! sudo mv  /tmp/splat/openshift-install /usr/local/bin/ \n",
    "! rm /tmp/splat/openshift-install-linux.tar.gz"
   ]
  }
 ],
 "metadata": {
  "kernelspec": {
   "display_name": "Python 3 (ipykernel)",
   "language": "python",
   "name": "python3"
  },
  "language_info": {
   "codemirror_mode": {
    "name": "ipython",
    "version": 3
   },
   "file_extension": ".py",
   "mimetype": "text/x-python",
   "name": "python",
   "nbconvert_exporter": "python",
   "pygments_lexer": "ipython3",
   "version": "3.9.5"
  }
 },
 "nbformat": 4,
 "nbformat_minor": 5
}
