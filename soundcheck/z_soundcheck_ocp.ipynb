{
 "cells": [
  {
   "cell_type": "code",
   "execution_count": 2,
   "id": "9d055990-be3a-4172-8c0b-f0683b62e2a2",
   "metadata": {},
   "outputs": [
    {
     "name": "stdout",
     "output_type": "stream",
     "text": [
      "cluster-admin\n"
     ]
    }
   ],
   "source": [
    "! oc whoami"
   ]
  },
  {
   "cell_type": "code",
   "execution_count": 3,
   "id": "7a26fd5f",
   "metadata": {},
   "outputs": [
    {
     "name": "stdout",
     "output_type": "stream",
     "text": [
      "Now using project \"rhoan\" on server \"https://api.rhoan-rosa9.y9ht.p1.openshiftapps.com:6443\".\n",
      "\n",
      "You can add applications to this project with the 'new-app' command. For example, try:\n",
      "\n",
      "    oc new-app rails-postgresql-example\n",
      "\n",
      "to build a new example application in Ruby. Or use kubectl to deploy a simple Kubernetes application:\n",
      "\n",
      "    kubectl create deployment hello-node --image=k8s.gcr.io/serve_hostname\n",
      "\n"
     ]
    }
   ],
   "source": [
    "! oc new-project rhoan"
   ]
  },
  {
   "cell_type": "code",
   "execution_count": 5,
   "id": "2fff8551-bfd8-443d-afa2-248e51b3bb9f",
   "metadata": {},
   "outputs": [
    {
     "name": "stdout",
     "output_type": "stream",
     "text": [
      "secret/dockersecret created\n"
     ]
    }
   ],
   "source": [
    "! oc create secret docker-registry dockersecret \\\n",
    "    --docker-server=\"docker.io\" \\\n",
    "    --docker-username=\"$DOCKER_USERNAME\" \\\n",
    "    --docker-password=\"$DOCKER_PASSWORD\" \\\n",
    "    --docker-email=\"$DOCKER_EMAIL\""
   ]
  },
  {
   "cell_type": "code",
   "execution_count": 6,
   "id": "369acfcc-2638-4eed-9dd4-5382f9569224",
   "metadata": {},
   "outputs": [],
   "source": [
    "! oc secrets link default dockersecret --for=pull --namespace=rhoan"
   ]
  },
  {
   "cell_type": "code",
   "execution_count": null,
   "id": "9b0cf987-01f0-4a2e-a78e-9cbf3e150edc",
   "metadata": {},
   "outputs": [],
   "source": []
  }
 ],
 "metadata": {
  "kernelspec": {
   "display_name": "Python 3 (ipykernel)",
   "language": "python",
   "name": "python3"
  },
  "language_info": {
   "codemirror_mode": {
    "name": "ipython",
    "version": 3
   },
   "file_extension": ".py",
   "mimetype": "text/x-python",
   "name": "python",
   "nbconvert_exporter": "python",
   "pygments_lexer": "ipython3",
   "version": "3.6.8"
  }
 },
 "nbformat": 4,
 "nbformat_minor": 5
}
