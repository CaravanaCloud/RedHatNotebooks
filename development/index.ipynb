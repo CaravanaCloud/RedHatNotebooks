{
 "cells": [
  {
   "cell_type": "markdown",
   "metadata": {},
   "source": [
    "# Development\n",
    "\n",
    "This section presents notebooks to build and deploy simple applications.\n",
    "\n",
    "This assumes that you have provisioned a working cluster, if that's not the case please refer to the [provisioning notebooks](../provisioning/indes.ipynb)"
   ]
  },
  {
   "cell_type": "code",
   "execution_count": null,
   "metadata": {},
   "outputs": [],
   "source": []
  }
 ],
 "metadata": {
  "language_info": {
   "name": "python"
  },
  "orig_nbformat": 4
 },
 "nbformat": 4,
 "nbformat_minor": 2
}
