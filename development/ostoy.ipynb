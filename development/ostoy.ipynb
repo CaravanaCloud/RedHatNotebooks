{
 "cells": [
  {
   "cell_type": "code",
   "execution_count": 1,
   "id": "ed3d74d8-fe85-4b74-9f19-1c6cd877c525",
   "metadata": {},
   "outputs": [],
   "source": [
    "! oc new-project ostoy"
   ]
  },
  {
   "cell_type": "code",
   "execution_count": 3,
   "id": "303b3eb7-247f-4a33-afa8-17a80292e886",
   "metadata": {},
   "outputs": [
    {
     "name": "stdout",
     "output_type": "stream",
     "text": [
      "E1206 20:23:30.708109    2193 request.go:1085] Unexpected error when reading response body: read tcp 172.17.0.2:50240->35.74.46.180:6443: read: connection reset by peer\n",
      "deployment.apps/ostoy-microservice created\n",
      "service/ostoy-microservice-svc created\n"
     ]
    }
   ],
   "source": [
    "! oc apply -f https://raw.githubusercontent.com/openshift-cs/rosaworkshop/master/rosa-workshop/ostoy/yaml/ostoy-microservice-deployment.yaml"
   ]
  },
  {
   "cell_type": "code",
   "execution_count": 4,
   "id": "7618bca5-a61c-4a4d-9fe9-e312a20d8637",
   "metadata": {},
   "outputs": [
    {
     "name": "stdout",
     "output_type": "stream",
     "text": [
      "W1206 20:27:57.598583    2209 shim_kubectl.go:55] Using non-groupfied API resources is deprecated and will be removed in a future release, update apiVersion to \"route.openshift.io/v1\" for your resource\n",
      "persistentvolumeclaim/ostoy-pvc created\n",
      "deployment.apps/ostoy-frontend created\n",
      "service/ostoy-frontend-svc created\n",
      "route.route.openshift.io/ostoy-route created\n",
      "secret/ostoy-secret-env created\n",
      "configmap/ostoy-configmap-files created\n",
      "secret/ostoy-secret created\n"
     ]
    }
   ],
   "source": [
    "! oc apply -f https://raw.githubusercontent.com/openshift-cs/rosaworkshop/master/rosa-workshop/ostoy/yaml/ostoy-fe-deployment.yaml"
   ]
  },
  {
   "cell_type": "code",
   "execution_count": 5,
   "id": "aa88a691-6197-4455-8513-a68b164ebbdf",
   "metadata": {},
   "outputs": [
    {
     "name": "stdout",
     "output_type": "stream",
     "text": [
      "NAME          HOST/PORT                                                       PATH   SERVICES             PORT    TERMINATION   WILDCARD\n",
      "ostoy-route   ostoy-route-ostoy.apps.id42-cluster.og58.p1.openshiftapps.com          ostoy-frontend-svc   <all>                 None\n"
     ]
    }
   ],
   "source": [
    "! oc get route"
   ]
  },
  {
   "cell_type": "code",
   "execution_count": 6,
   "id": "116b5ab9-81cb-4e04-8a1e-1bea25cca83b",
   "metadata": {},
   "outputs": [
    {
     "name": "stdout",
     "output_type": "stream",
     "text": [
      "Found. Redirecting to home"
     ]
    }
   ],
   "source": [
    "! curl http://ostoy-route-ostoy.apps.id42-cluster.og58.p1.openshiftapps.com"
   ]
  },
  {
   "cell_type": "code",
   "execution_count": 7,
   "id": "28a33596-0229-496b-a0c2-51643ed224e6",
   "metadata": {},
   "outputs": [
    {
     "name": "stdout",
     "output_type": "stream",
     "text": [
      "NAME                                READY   STATUS    RESTARTS   AGE\n",
      "ostoy-frontend-64c8668694-4zzfw     1/1     Running   0          2m36s\n",
      "ostoy-microservice-cf8bfb4c-zjvjx   1/1     Running   0          7m\n"
     ]
    }
   ],
   "source": [
    "!oc get pods"
   ]
  },
  {
   "cell_type": "code",
   "execution_count": 8,
   "id": "73172e1a-f100-4094-a79a-9cf6a9d322c8",
   "metadata": {},
   "outputs": [
    {
     "name": "stdout",
     "output_type": "stream",
     "text": [
      "NAME                                    READY   STATUS    RESTARTS   AGE\n",
      "pod/ostoy-frontend-64c8668694-4zzfw     1/1     Running   0          2m42s\n",
      "pod/ostoy-microservice-cf8bfb4c-zjvjx   1/1     Running   0          7m6s\n",
      "\n",
      "NAME                             TYPE        CLUSTER-IP       EXTERNAL-IP   PORT(S)    AGE\n",
      "service/ostoy-frontend-svc       ClusterIP   172.30.25.107    <none>        8080/TCP   2m42s\n",
      "service/ostoy-microservice-svc   ClusterIP   172.30.232.111   <none>        8080/TCP   7m6s\n",
      "\n",
      "NAME                                 READY   UP-TO-DATE   AVAILABLE   AGE\n",
      "deployment.apps/ostoy-frontend       1/1     1            1           2m43s\n",
      "deployment.apps/ostoy-microservice   1/1     1            1           7m7s\n",
      "\n",
      "NAME                                          DESIRED   CURRENT   READY   AGE\n",
      "replicaset.apps/ostoy-frontend-64c8668694     1         1         1       2m44s\n",
      "replicaset.apps/ostoy-microservice-cf8bfb4c   1         1         1       7m8s\n",
      "\n",
      "NAME                                   HOST/PORT                                                       PATH   SERVICES             PORT    TERMINATION   WILDCARD\n",
      "route.route.openshift.io/ostoy-route   ostoy-route-ostoy.apps.id42-cluster.og58.p1.openshiftapps.com          ostoy-frontend-svc   <all>                 None\n"
     ]
    }
   ],
   "source": [
    "!oc get all"
   ]
  },
  {
   "cell_type": "code",
   "execution_count": 11,
   "id": "9d648804-6e99-4483-8915-0ac72ab13254",
   "metadata": {},
   "outputs": [
    {
     "name": "stdout",
     "output_type": "stream",
     "text": [
      "Error: unknown command \"tail\" for \"oc\"\n",
      "\n",
      "Did you mean this?\n",
      "\ttag\n",
      "\twait\n",
      "\n",
      "Run 'oc --help' for usage.\n"
     ]
    }
   ],
   "source": []
  },
  {
   "cell_type": "code",
   "execution_count": null,
   "id": "ab95d84d-5e8f-4b09-8bf4-cf2d5333cb7b",
   "metadata": {},
   "outputs": [],
   "source": []
  }
 ],
 "metadata": {
  "kernelspec": {
   "display_name": "Python 3 (ipykernel)",
   "language": "python",
   "name": "python3"
  },
  "language_info": {
   "codemirror_mode": {
    "name": "ipython",
    "version": 3
   },
   "file_extension": ".py",
   "mimetype": "text/x-python",
   "name": "python",
   "nbconvert_exporter": "python",
   "pygments_lexer": "ipython3",
   "version": "3.9.6"
  }
 },
 "nbformat": 4,
 "nbformat_minor": 5
}
