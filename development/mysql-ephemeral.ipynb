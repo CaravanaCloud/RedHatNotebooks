{
 "cells": [
  {
   "cell_type": "code",
   "execution_count": 4,
   "id": "b347a2b1-da5a-4e42-8740-dee3ee944a9d",
   "metadata": {},
   "outputs": [
    {
     "name": "stdout",
     "output_type": "stream",
     "text": [
      "Login successful.\n",
      "\n",
      "You have access to 89 projects, the list has been suppressed. You can list all projects with 'oc projects'\n",
      "\n",
      "Using project \"default\".\n",
      "Welcome! See 'oc help' to get started.\n"
     ]
    }
   ],
   "source": [
    "# !oc login https://api.id42-cluster.og58.p1.openshiftapps.com:6443 --username cluster-admin --password EHH9r-F5Ioh-fY5Uc-5k5ew\n"
   ]
  },
  {
   "cell_type": "code",
   "execution_count": 5,
   "id": "65e9231c-bbca-4d4f-ac34-103e8330f3e0",
   "metadata": {},
   "outputs": [
    {
     "name": "stdout",
     "output_type": "stream",
     "text": [
      "cakephp-mysql-example                           An example CakePHP application with a MySQL database. For more information ab...   21 (4 blank)      8\n",
      "cakephp-mysql-persistent                        An example CakePHP application with a MySQL database. For more information ab...   22 (4 blank)      9\n",
      "dancer-mysql-example                            An example Dancer application with a MySQL database. For more information abo...   18 (5 blank)      8\n",
      "dancer-mysql-persistent                         An example Dancer application with a MySQL database. For more information abo...   19 (5 blank)      9\n",
      "jws31-tomcat7-mysql-persistent-s2i              An example JBoss Web Server application with a MySQL database. For more infor...   31 (13 blank)     10\n",
      "jws31-tomcat7-mysql-s2i                         Application template for JWS MySQL applications built using S2I.                   30 (13 blank)     9\n",
      "jws31-tomcat8-mysql-persistent-s2i              An example JBoss Web Server application with a MySQL database. For more infor...   31 (13 blank)     10\n",
      "jws31-tomcat8-mysql-s2i                         Application template for JWS MySQL applications built using S2I.                   30 (13 blank)     9\n",
      "mysql-ephemeral                                 MySQL database service, without persistent storage. For more information abou...   8 (3 generated)   3\n",
      "mysql-persistent                                MySQL database service, with persistent storage. For more information about u...   9 (3 generated)   4\n",
      "processserver64-amq-mysql-persistent-s2i        An example BPM Suite application with A-MQ and a MySQL database. For more inf...   49 (13 blank)     14\n",
      "processserver64-amq-mysql-s2i                   An example BPM Suite application with A-MQ and a MySQL database. For more inf...   47 (13 blank)     12\n",
      "processserver64-mysql-persistent-s2i            An example BPM Suite application with a MySQL database. For more information...    40 (14 blank)     10\n",
      "processserver64-mysql-s2i                       An example BPM Suite application with a MySQL database. For more information...    39 (14 blank)     9\n",
      "rhpam711-kieserver-mysql                        Application template for a managed KIE Server with a MySQL database, for Red...    70 (42 blank)     9\n",
      "sso72-mysql                                     An example RH-SSO 7 application with a MySQL database. For more information a...   36 (20 blank)     8\n",
      "sso72-mysql-persistent                          An example RH-SSO 7 application with a MySQL database. For more information a...   37 (20 blank)     9\n",
      "sso73-mysql                                     An example application based on RH-SSO 7.3 image. For more information about...    37 (21 blank)     8\n",
      "sso73-mysql-persistent                          An example application based on RH-SSO 7.3 image. For more information about...    38 (21 blank)     9\n",
      "sso73-ocp4-x509-mysql-persistent                An example application based on RH-SSO 7.3 image. For more information about...    24 (12 blank)     8\n"
     ]
    }
   ],
   "source": [
    "!oc get templates -n openshift |grep mysql\n"
   ]
  },
  {
   "cell_type": "code",
   "execution_count": 6,
   "id": "4f9a6b9a-aeef-47b0-bacb-b53d89cfaa6d",
   "metadata": {},
   "outputs": [
    {
     "name": "stdout",
     "output_type": "stream",
     "text": [
      "Name:\t\tmysql-ephemeral\n",
      "Namespace:\topenshift\n",
      "Created:\t2 hours ago\n",
      "Labels:\t\tsamples.operator.openshift.io/managed=true\n",
      "Description:\tMySQL database service, without persistent storage. For more information about using this template, including OpenShift considerations, see https://github.com/sclorg/mysql-container/blob/master/8.0/root/usr/share/container-scripts/mysql/README.md.\n",
      "\t\t\n",
      "\t\tWARNING: Any data stored will be lost upon pod destruction. Only use this template for testing\n",
      "Annotations:\ticonClass=icon-mysql-database\n",
      "\t\topenshift.io/display-name=MySQL (Ephemeral)\n",
      "\t\topenshift.io/documentation-url=https://docs.okd.io/latest/using_images/db_images/mysql.html\n",
      "\t\topenshift.io/long-description=This template provides a standalone MySQL server with a database created.  The database is not stored on persistent storage, so any restart of the service will result in all data being lost.  The database name, username, and password are chosen via parameters when provisioning this service.\n",
      "\t\topenshift.io/provider-display-name=Red Hat, Inc.\n",
      "\t\topenshift.io/support-url=https://access.redhat.com\n",
      "\t\tsamples.operator.openshift.io/version=4.9.8\n",
      "\t\ttags=database,mysql\n",
      "\n",
      "Parameters:\t\t \n",
      "    Name:\t\tMEMORY_LIMIT\n",
      "    Display Name:\tMemory Limit\n",
      "    Description:\tMaximum amount of memory the container can use.\n",
      "    Required:\t\ttrue\n",
      "    Value:\t\t512Mi\n",
      "\n",
      "    Name:\t\tNAMESPACE\n",
      "    Display Name:\tNamespace\n",
      "    Description:\tThe OpenShift Namespace where the ImageStream resides.\n",
      "    Required:\t\tfalse\n",
      "    Value:\t\topenshift\n",
      "\n",
      "    Name:\t\tDATABASE_SERVICE_NAME\n",
      "    Display Name:\tDatabase Service Name\n",
      "    Description:\tThe name of the OpenShift Service exposed for the database.\n",
      "    Required:\t\ttrue\n",
      "    Value:\t\tmysql\n",
      "\n",
      "    Name:\t\tMYSQL_USER\n",
      "    Display Name:\tMySQL Connection Username\n",
      "    Description:\tUsername for MySQL user that will be used for accessing the database.\n",
      "    Required:\t\ttrue\n",
      "    Generated:\t\texpression\n",
      "    From:\t\tuser[A-Z0-9]{3}\n",
      "\n",
      "    Name:\t\tMYSQL_PASSWORD\n",
      "    Display Name:\tMySQL Connection Password\n",
      "    Description:\tPassword for the MySQL connection user.\n",
      "    Required:\t\ttrue\n",
      "    Generated:\t\texpression\n",
      "    From:\t\t[a-zA-Z0-9]{16}\n",
      "\n",
      "    Name:\t\tMYSQL_ROOT_PASSWORD\n",
      "    Display Name:\tMySQL root user Password\n",
      "    Description:\tPassword for the MySQL root user.\n",
      "    Required:\t\ttrue\n",
      "    Generated:\t\texpression\n",
      "    From:\t\t[a-zA-Z0-9]{16}\n",
      "\n",
      "    Name:\t\tMYSQL_DATABASE\n",
      "    Display Name:\tMySQL Database Name\n",
      "    Description:\tName of the MySQL database accessed.\n",
      "    Required:\t\ttrue\n",
      "    Value:\t\tsampledb\n",
      "\n",
      "    Name:\t\tMYSQL_VERSION\n",
      "    Display Name:\tVersion of MySQL Image\n",
      "    Description:\tVersion of MySQL image to be used (8.0-el7, 8.0-el8, or latest).\n",
      "    Required:\t\ttrue\n",
      "    Value:\t\t8.0-el8\n",
      "\n",
      "\n",
      "Object Labels:\ttemplate=mysql-ephemeral-template\n",
      "\n",
      "Message:\tThe following service(s) have been created in your project: ${DATABASE_SERVICE_NAME}.\n",
      "\t\t\n",
      "\t\t       Username: ${MYSQL_USER}\n",
      "\t\t       Password: ${MYSQL_PASSWORD}\n",
      "\t\t  Database Name: ${MYSQL_DATABASE}\n",
      "\t\t Connection URL: mysql://${DATABASE_SERVICE_NAME}:3306/\n",
      "\t\t\n",
      "\t\tFor more information about using this template, including OpenShift considerations, see https://github.com/sclorg/mysql-container/blob/master/8.0/root/usr/share/container-scripts/mysql/README.md.\n",
      "\n",
      "Objects:\t\t \n",
      "    Secret\t\t${DATABASE_SERVICE_NAME}\n",
      "    Service\t\t${DATABASE_SERVICE_NAME}\n",
      "    DeploymentConfig\t${DATABASE_SERVICE_NAME}\n"
     ]
    }
   ],
   "source": [
    "!oc describe template mysql-ephemeral -n openshift\n"
   ]
  },
  {
   "cell_type": "code",
   "execution_count": 7,
   "id": "0c71201a-6fd2-479f-a31b-7e6942ab0077",
   "metadata": {},
   "outputs": [
    {
     "name": "stdout",
     "output_type": "stream",
     "text": [
      "--> Deploying template \"openshift/mysql-ephemeral\" to project mysql-ephemeral\n",
      "\n",
      "     MySQL (Ephemeral)\n",
      "     ---------\n",
      "     MySQL database service, without persistent storage. For more information about using this template, including OpenShift considerations, see https://github.com/sclorg/mysql-container/blob/master/8.0/root/usr/share/container-scripts/mysql/README.md.\n",
      "     \n",
      "     WARNING: Any data stored will be lost upon pod destruction. Only use this template for testing\n",
      "\n",
      "     The following service(s) have been created in your project: mysql.\n",
      "     \n",
      "            Username: admin\n",
      "            Password: Masterkey123\n",
      "       Database Name: shakila\n",
      "      Connection URL: mysql://mysql:3306/\n",
      "     \n",
      "     For more information about using this template, including OpenShift considerations, see https://github.com/sclorg/mysql-container/blob/master/8.0/root/usr/share/container-scripts/mysql/README.md.\n",
      "\n",
      "     * With parameters:\n",
      "        * Memory Limit=512Mi\n",
      "        * Namespace=openshift\n",
      "        * Database Service Name=mysql\n",
      "        * MySQL Connection Username=admin\n",
      "        * MySQL Connection Password=Masterkey123\n",
      "        * MySQL root user Password=LOX5Afc7ImKyPixE # generated\n",
      "        * MySQL Database Name=shakila\n",
      "        * Version of MySQL Image=8.0-el8\n",
      "\n",
      "--> Creating resources ...\n",
      "    secret \"mysql\" created\n",
      "    service \"mysql\" created\n",
      "    deploymentconfig.apps.openshift.io \"mysql\" created\n",
      "--> Success\n",
      "    Application is not exposed. You can expose services to the outside world by executing one or more of the commands below:\n",
      "     'oc expose service/mysql' \n",
      "    Run 'oc status' to view your app.\n"
     ]
    }
   ],
   "source": [
    "! oc new-app --name \"mysql-ephemeral0\" \\\n",
    "    --template=\"mysql-ephemeral\"\\\n",
    "    --param=MYSQL_USER=\"admin\"\\\n",
    "    --param=MYSQL_PASSWORD=\"Masterkey123\"\\\n",
    "    --param=MYSQL_DATABASE=\"shakila\""
   ]
  },
  {
   "cell_type": "code",
   "execution_count": 8,
   "id": "df0fd960-9c35-4af5-9e52-3bc515aa1d42",
   "metadata": {},
   "outputs": [
    {
     "name": "stdout",
     "output_type": "stream",
     "text": [
      "In project mysql-ephemeral on server https://api.id42-cluster.og58.p1.openshiftapps.com:6443\n",
      "\n",
      "svc/mysql - 172.30.234.202:3306\n",
      "  dc/mysql deploys openshift/mysql:8.0-el8 \n",
      "    deployment #1 deployed about a minute ago - 1 pod\n",
      "\n",
      "View details with 'oc describe <resource>/<name>' or list resources with 'oc get all'.\n"
     ]
    }
   ],
   "source": [
    "!oc status"
   ]
  },
  {
   "cell_type": "code",
   "execution_count": 10,
   "id": "6d0e1732-59cc-4883-887f-3970f895012a",
   "metadata": {},
   "outputs": [
    {
     "name": "stdout",
     "output_type": "stream",
     "text": [
      "route.route.openshift.io/mysql exposed\n"
     ]
    }
   ],
   "source": [
    "!oc expose service/mysql"
   ]
  },
  {
   "cell_type": "code",
   "execution_count": 16,
   "id": "6fc65a54-30fb-4d90-b3ec-475ffc188b63",
   "metadata": {},
   "outputs": [
    {
     "name": "stdout",
     "output_type": "stream",
     "text": [
      "NAME                 READY   STATUS      RESTARTS   AGE\n",
      "pod/mysql-1-cpzc5    1/1     Running     0          9m45s\n",
      "pod/mysql-1-deploy   0/1     Completed   0          9m48s\n",
      "\n",
      "NAME                            DESIRED   CURRENT   READY   AGE\n",
      "replicationcontroller/mysql-1   1         1         1       9m49s\n",
      "\n",
      "NAME            TYPE        CLUSTER-IP       EXTERNAL-IP   PORT(S)    AGE\n",
      "service/mysql   ClusterIP   172.30.234.202   <none>        3306/TCP   9m50s\n",
      "\n",
      "NAME                                       REVISION   DESIRED   CURRENT   TRIGGERED BY\n",
      "deploymentconfig.apps.openshift.io/mysql   1          1         1         config,image(mysql:8.0-el8)\n",
      "\n",
      "NAME                             HOST/PORT                                                           PATH   SERVICES   PORT    TERMINATION   WILDCARD\n",
      "route.route.openshift.io/mysql   mysql-mysql-ephemeral.apps.id42-cluster.og58.p1.openshiftapps.com          mysql      mysql                 None\n"
     ]
    }
   ],
   "source": [
    "!oc get all"
   ]
  },
  {
   "cell_type": "code",
   "execution_count": 11,
   "id": "9c5cab2d-ffae-4fc0-9d94-bd163f20bd1a",
   "metadata": {},
   "outputs": [
    {
     "name": "stdout",
     "output_type": "stream",
     "text": [
      "Name:              mysql\n",
      "Namespace:         mysql-ephemeral\n",
      "Labels:            app=mysql-ephemeral0\n",
      "                   app.kubernetes.io/component=mysql-ephemeral0\n",
      "                   app.kubernetes.io/instance=mysql-ephemeral0\n",
      "                   template=mysql-ephemeral-template\n",
      "Annotations:       openshift.io/generated-by: OpenShiftNewApp\n",
      "                   template.openshift.io/expose-uri: mysql://{.spec.clusterIP}:{.spec.ports[?(.name==\"mysql\")].port}\n",
      "Selector:          name=mysql\n",
      "Type:              ClusterIP\n",
      "IP Family Policy:  SingleStack\n",
      "IP Families:       IPv4\n",
      "IP:                172.30.234.202\n",
      "IPs:               172.30.234.202\n",
      "Port:              mysql  3306/TCP\n",
      "TargetPort:        3306/TCP\n",
      "Endpoints:         10.131.0.44:3306\n",
      "Session Affinity:  None\n",
      "Events:            <none>\n"
     ]
    }
   ],
   "source": [
    "!oc describe service/mysql"
   ]
  },
  {
   "cell_type": "code",
   "execution_count": null,
   "id": "f6b5ea39-641d-46b5-a970-51685e04f1a0",
   "metadata": {},
   "outputs": [],
   "source": [
    "!sudo apt install mysql-server"
   ]
  },
  {
   "cell_type": "code",
   "execution_count": 15,
   "id": "9b399073-b29c-494e-a76d-a91807e99171",
   "metadata": {},
   "outputs": [
    {
     "name": "stdout",
     "output_type": "stream",
     "text": [
      "mysql: [Warning] Using a password on the command line interface can be insecure.\n",
      "^C\n"
     ]
    }
   ],
   "source": [
    "!mysql -h10.131.0.44 -uadmin -pMasterkey123 shakila -e \"select 1+1\""
   ]
  },
  {
   "cell_type": "code",
   "execution_count": null,
   "id": "efb71f81-4464-4b85-8cd1-6b96d3d65779",
   "metadata": {},
   "outputs": [],
   "source": []
  }
 ],
 "metadata": {
  "kernelspec": {
   "display_name": "Python 3 (ipykernel)",
   "language": "python",
   "name": "python3"
  },
  "language_info": {
   "codemirror_mode": {
    "name": "ipython",
    "version": 3
   },
   "file_extension": ".py",
   "mimetype": "text/x-python",
   "name": "python",
   "nbconvert_exporter": "python",
   "pygments_lexer": "ipython3",
   "version": "3.9.6"
  }
 },
 "nbformat": 4,
 "nbformat_minor": 5
}
