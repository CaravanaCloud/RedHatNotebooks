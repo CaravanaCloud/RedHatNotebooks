{
 "cells": [
  {
   "cell_type": "code",
   "execution_count": 3,
   "id": "2e0a51bd",
   "metadata": {},
   "outputs": [
    {
     "name": "stdout",
     "output_type": "stream",
     "text": [
      "env: KUBECONFIG=/home/jufaerma/code/splat-sandbox/.install_id42j/auth/kubeconfig\n"
     ]
    }
   ],
   "source": [
    "%env KUBECONFIG /home/jufaerma/code/splat-sandbox/.install_id42j/auth/kubeconfig"
   ]
  },
  {
   "cell_type": "code",
   "execution_count": 4,
   "id": "4ab92982-bcf1-4b25-96b6-7714f29fa681",
   "metadata": {},
   "outputs": [
    {
     "name": "stdout",
     "output_type": "stream",
     "text": [
      "system:admin\n"
     ]
    }
   ],
   "source": [
    "!oc whoami"
   ]
  },
  {
   "cell_type": "code",
   "execution_count": 5,
   "id": "75279dfe-aa88-4abf-b67e-1c094035b9f9",
   "metadata": {},
   "outputs": [
    {
     "name": "stdout",
     "output_type": "stream",
     "text": [
      "YWRtaW4=\n",
      "TWFzdGVya2V5MTIz\n"
     ]
    }
   ],
   "source": [
    "!echo -n 'admin' | base64\n",
    "!echo -n 'Masterkey123' | base64"
   ]
  },
  {
   "cell_type": "code",
   "execution_count": 6,
   "id": "1ea0e2bb-08df-4bc1-bb6d-8bb87115d917",
   "metadata": {},
   "outputs": [
    {
     "name": "stdout",
     "output_type": "stream",
     "text": [
      "Now using project \"mongodb\" on server \"https://api.id42j.devcluster.openshift.com:6443\".\n",
      "\n",
      "You can add applications to this project with the 'new-app' command. For example, try:\n",
      "\n",
      "    oc new-app rails-postgresql-example\n",
      "\n",
      "to build a new example application in Ruby. Or use kubectl to deploy a simple Kubernetes application:\n",
      "\n",
      "    kubectl create deployment hello-node --image=k8s.gcr.io/serve_hostname\n",
      "\n"
     ]
    }
   ],
   "source": [
    "! oc new-project mongodb"
   ]
  },
  {
   "cell_type": "code",
   "execution_count": 7,
   "id": "52b03339-0f31-4e8e-8874-16948fc4c69c",
   "metadata": {},
   "outputs": [
    {
     "name": "stdout",
     "output_type": "stream",
     "text": [
      "secret/mongodb-secret created\n"
     ]
    }
   ],
   "source": [
    "! kubectl apply -f mongodb-secrets.yaml"
   ]
  },
  {
   "cell_type": "code",
   "execution_count": 8,
   "id": "19ebb241-cf32-4f59-814d-55e1aef78310",
   "metadata": {},
   "outputs": [
    {
     "name": "stdout",
     "output_type": "stream",
     "text": [
      "deployment.apps/mondgodb-deployment created\n",
      "service/monbodb-service created\n"
     ]
    }
   ],
   "source": [
    "! kubectl apply -f mongodb-deployment.yaml"
   ]
  },
  {
   "cell_type": "code",
   "execution_count": 9,
   "id": "1e3f2c06-370d-4bb4-9d20-b8798b8173f1",
   "metadata": {},
   "outputs": [
    {
     "name": "stdout",
     "output_type": "stream",
     "text": [
      "configmap/mongodb-configmap created\n"
     ]
    }
   ],
   "source": [
    "! kubectl apply -f mongodb-configmap.yaml"
   ]
  },
  {
   "cell_type": "code",
   "execution_count": 10,
   "id": "c7aa9fbf-0de9-48c0-a8cc-b6101811c902",
   "metadata": {},
   "outputs": [
    {
     "name": "stdout",
     "output_type": "stream",
     "text": [
      "deployment.apps/mondgodb-express created\n",
      "service/monbodb-express-service created\n"
     ]
    }
   ],
   "source": [
    "! kubectl apply -f mongodb-express.yaml"
   ]
  },
  {
   "cell_type": "code",
   "execution_count": 11,
   "id": "66d1f4b5-51c6-4d8a-a10f-29f7667a84bd",
   "metadata": {},
   "outputs": [
    {
     "name": "stdout",
     "output_type": "stream",
     "text": [
      "NAME                                      READY   STATUS              RESTARTS   AGE\n",
      "pod/mondgodb-deployment-8f6675bc5-wcdhf   0/1     ContainerCreating   0          17s\n",
      "pod/mondgodb-express-c4f8c85db-nbljg      0/1     ContainerCreating   0          7s\n",
      "\n",
      "NAME                              TYPE           CLUSTER-IP       EXTERNAL-IP                                                                   PORT(S)          AGE\n",
      "service/monbodb-express-service   LoadBalancer   172.30.248.59    add6ab92e9183453c8894ed733a05268-793076349.ap-northeast-1.elb.amazonaws.com   8081:30000/TCP   6s\n",
      "service/monbodb-service           ClusterIP      172.30.217.145   <none>                                                                        27017/TCP        17s\n",
      "\n",
      "NAME                                  READY   UP-TO-DATE   AVAILABLE   AGE\n",
      "deployment.apps/mondgodb-deployment   0/1     1            0           19s\n",
      "deployment.apps/mondgodb-express      0/1     1            0           8s\n",
      "\n",
      "NAME                                            DESIRED   CURRENT   READY   AGE\n",
      "replicaset.apps/mondgodb-deployment-8f6675bc5   1         1         0       19s\n",
      "replicaset.apps/mondgodb-express-c4f8c85db      1         1         0       8s\n"
     ]
    }
   ],
   "source": [
    "! oc get all"
   ]
  },
  {
   "cell_type": "code",
   "execution_count": 10,
   "id": "3b5e680a-add5-447d-80db-1f61dc752a8c",
   "metadata": {},
   "outputs": [
    {
     "name": "stdout",
     "output_type": "stream",
     "text": [
      "Name:         mongodb-secret\n",
      "Namespace:    mongodb\n",
      "Labels:       <none>\n",
      "Annotations:  <none>\n",
      "\n",
      "Type:  Opaque\n",
      "\n",
      "Data\n",
      "====\n",
      "mongo-root-password:  12 bytes\n",
      "mongo-root-username:  5 bytes\n"
     ]
    }
   ],
   "source": [
    "! kubectl describe secret mongodb-secret"
   ]
  },
  {
   "cell_type": "code",
   "execution_count": null,
   "id": "586fa22f-ea33-4b98-b13e-62398de77f75",
   "metadata": {},
   "outputs": [],
   "source": []
  }
 ],
 "metadata": {
  "kernelspec": {
   "display_name": "Python 3 (ipykernel)",
   "language": "python",
   "name": "python3"
  },
  "language_info": {
   "codemirror_mode": {
    "name": "ipython",
    "version": 3
   },
   "file_extension": ".py",
   "mimetype": "text/x-python",
   "name": "python",
   "nbconvert_exporter": "python",
   "pygments_lexer": "ipython3",
   "version": "3.6.8"
  }
 },
 "nbformat": 4,
 "nbformat_minor": 5
}
