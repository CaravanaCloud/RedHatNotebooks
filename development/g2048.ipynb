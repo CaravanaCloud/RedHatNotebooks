{
 "cells": [
  {
   "cell_type": "code",
   "execution_count": null,
   "id": "ff1086a4",
   "metadata": {},
   "outputs": [],
   "source": [
    "# this container runs as root, needed for runAsUser: 0\n",
    "oc adm policy add-scc-to-group privileged system:authenticated\n"
   ]
  },
  {
   "cell_type": "code",
   "execution_count": 65,
   "id": "cc7f3833-175b-4e0b-80c0-a679c1d46abb",
   "metadata": {},
   "outputs": [
    {
     "name": "stdout",
     "output_type": "stream",
     "text": [
      "unable to recognize \"g2048.yaml\": Get \"https://api.id43-cluster.jg1z.p1.openshiftapps.com:6443/api?timeout=32s\": dial tcp: lookup api.id43-cluster.jg1z.p1.openshiftapps.com on 10.38.5.26:53: no such host\n",
      "unable to recognize \"g2048.yaml\": Get \"https://api.id43-cluster.jg1z.p1.openshiftapps.com:6443/api?timeout=32s\": dial tcp: lookup api.id43-cluster.jg1z.p1.openshiftapps.com on 10.38.5.26:53: no such host\n",
      "unable to recognize \"g2048.yaml\": Get \"https://api.id43-cluster.jg1z.p1.openshiftapps.com:6443/api?timeout=32s\": dial tcp: lookup api.id43-cluster.jg1z.p1.openshiftapps.com on 10.38.5.26:53: no such host\n",
      "unable to recognize \"g2048.yaml\": Get \"https://api.id43-cluster.jg1z.p1.openshiftapps.com:6443/api?timeout=32s\": dial tcp: lookup api.id43-cluster.jg1z.p1.openshiftapps.com on 10.38.5.26:53: no such host\n"
     ]
    }
   ],
   "source": [
    "! oc apply -f g2048.yaml"
   ]
  },
  {
   "cell_type": "code",
   "execution_count": 60,
   "id": "b4fa4ef1-667a-45c8-ae75-6282efaa9616",
   "metadata": {},
   "outputs": [
    {
     "name": "stdout",
     "output_type": "stream",
     "text": [
      "NAME                     READY   STATUS   RESTARTS      AGE\n",
      "g2048-6dd6c5956f-4tcfq   0/1     Error    2 (20s ago)   43s\n"
     ]
    }
   ],
   "source": [
    "! oc get pods"
   ]
  },
  {
   "cell_type": "code",
   "execution_count": 61,
   "id": "c8f3a3f9-708a-480f-b013-1ef06656b90f",
   "metadata": {},
   "outputs": [
    {
     "name": "stdout",
     "output_type": "stream",
     "text": [
      "env: POD=g2048-6dd6c5956f-4tcfq\n"
     ]
    }
   ],
   "source": [
    "%env POD g2048-6dd6c5956f-4tcfq"
   ]
  },
  {
   "cell_type": "code",
   "execution_count": 7,
   "id": "e410f7d3-007c-404e-8ca5-6b41f9390eb6",
   "metadata": {},
   "outputs": [],
   "source": [
    "# ! oc get pods -o json"
   ]
  },
  {
   "cell_type": "code",
   "execution_count": 62,
   "id": "86877017-8cbd-49af-b414-8c49b176bd34",
   "metadata": {},
   "outputs": [
    {
     "name": "stdout",
     "output_type": "stream",
     "text": [
      "NAME                     READY   STATUS   RESTARTS      AGE\n",
      "g2048-6dd6c5956f-4tcfq   0/1     Error    3 (34s ago)   73s\n"
     ]
    }
   ],
   "source": [
    "! oc get pod $POD"
   ]
  },
  {
   "cell_type": "code",
   "execution_count": 63,
   "id": "ac22ac03-45fd-4a8f-9002-e20d2e5d8d4a",
   "metadata": {},
   "outputs": [
    {
     "name": "stdout",
     "output_type": "stream",
     "text": [
      "Name:         g2048-6dd6c5956f-4tcfq\n",
      "Namespace:    g2048\n",
      "Priority:     0\n",
      "Node:         ip-10-0-165-198.ap-northeast-1.compute.internal/10.0.165.198\n",
      "Start Time:   Wed, 08 Dec 2021 19:30:12 +0000\n",
      "Labels:       app=g2048\n",
      "              pod-template-hash=6dd6c5956f\n",
      "Annotations:  k8s.v1.cni.cncf.io/network-status:\n",
      "                [{\n",
      "                    \"name\": \"openshift-sdn\",\n",
      "                    \"interface\": \"eth0\",\n",
      "                    \"ips\": [\n",
      "                        \"10.128.2.77\"\n",
      "                    ],\n",
      "                    \"default\": true,\n",
      "                    \"dns\": {}\n",
      "                }]\n",
      "              k8s.v1.cni.cncf.io/networks-status:\n",
      "                [{\n",
      "                    \"name\": \"openshift-sdn\",\n",
      "                    \"interface\": \"eth0\",\n",
      "                    \"ips\": [\n",
      "                        \"10.128.2.77\"\n",
      "                    ],\n",
      "                    \"default\": true,\n",
      "                    \"dns\": {}\n",
      "                }]\n",
      "              openshift.io/scc: restricted\n",
      "Status:       Running\n",
      "IP:           10.128.2.77\n",
      "IPs:\n",
      "  IP:           10.128.2.77\n",
      "Controlled By:  ReplicaSet/g2048-6dd6c5956f\n",
      "Containers:\n",
      "  g2048:\n",
      "    Container ID:   cri-o://55fea7e0a0d59dfb9d186d5a403b63e290a7e600c89a7d52ae99f90f96b9c228\n",
      "    Image:          nginx\n",
      "    Image ID:       docker.io/library/nginx@sha256:4424e31f2c366108433ecca7890ad527b243361577180dfd9a5bb36e828abf47\n",
      "    Port:           80/TCP\n",
      "    Host Port:      0/TCP\n",
      "    State:          Terminated\n",
      "      Reason:       Error\n",
      "      Exit Code:    1\n",
      "      Started:      Wed, 08 Dec 2021 19:31:15 +0000\n",
      "      Finished:     Wed, 08 Dec 2021 19:31:15 +0000\n",
      "    Last State:     Terminated\n",
      "      Reason:       Error\n",
      "      Exit Code:    1\n",
      "      Started:      Wed, 08 Dec 2021 19:30:45 +0000\n",
      "      Finished:     Wed, 08 Dec 2021 19:30:45 +0000\n",
      "    Ready:          False\n",
      "    Restart Count:  3\n",
      "    Environment:    <none>\n",
      "    Mounts:\n",
      "      /var from datavol (rw)\n",
      "      /var/run/secrets/kubernetes.io/serviceaccount from kube-api-access-9mspm (ro)\n",
      "Conditions:\n",
      "  Type              Status\n",
      "  Initialized       True \n",
      "  Ready             False \n",
      "  ContainersReady   False \n",
      "  PodScheduled      True \n",
      "Volumes:\n",
      "  datavol:\n",
      "    Type:       PersistentVolumeClaim (a reference to a PersistentVolumeClaim in the same namespace)\n",
      "    ClaimName:  g2048-pvc\n",
      "    ReadOnly:   false\n",
      "  kube-api-access-9mspm:\n",
      "    Type:                    Projected (a volume that contains injected data from multiple sources)\n",
      "    TokenExpirationSeconds:  3607\n",
      "    ConfigMapName:           kube-root-ca.crt\n",
      "    ConfigMapOptional:       <nil>\n",
      "    DownwardAPI:             true\n",
      "    ConfigMapName:           openshift-service-ca.crt\n",
      "    ConfigMapOptional:       <nil>\n",
      "QoS Class:                   BestEffort\n",
      "Node-Selectors:              <none>\n",
      "Tolerations:                 node.kubernetes.io/not-ready:NoExecute op=Exists for 300s\n",
      "                             node.kubernetes.io/unreachable:NoExecute op=Exists for 300s\n",
      "Events:\n",
      "  Type     Reason                  Age                From                     Message\n",
      "  ----     ------                  ----               ----                     -------\n",
      "  Normal   Scheduled               73s                default-scheduler        Successfully assigned g2048/g2048-6dd6c5956f-4tcfq to ip-10-0-165-198.ap-northeast-1.compute.internal\n",
      "  Normal   SuccessfulAttachVolume  70s                attachdetach-controller  AttachVolume.Attach succeeded for volume \"pvc-242c057e-6759-4eeb-acfe-9dd87390adcb\"\n",
      "  Normal   AddedInterface          63s                multus                   Add eth0 [10.128.2.77/23] from openshift-sdn\n",
      "  Normal   Pulled                  60s                kubelet                  Successfully pulled image \"nginx\" in 3.304038516s\n",
      "  Normal   Pulled                  56s                kubelet                  Successfully pulled image \"nginx\" in 2.823346904s\n",
      "  Normal   Pulled                  40s                kubelet                  Successfully pulled image \"nginx\" in 2.825273341s\n",
      "  Normal   Pulling                 13s (x4 over 63s)  kubelet                  Pulling image \"nginx\"\n",
      "  Normal   Created                 10s (x4 over 60s)  kubelet                  Created container g2048\n",
      "  Normal   Started                 10s (x4 over 60s)  kubelet                  Started container g2048\n",
      "  Warning  BackOff                 10s (x5 over 55s)  kubelet                  Back-off restarting failed container\n",
      "  Normal   Pulled                  10s                kubelet                  Successfully pulled image \"nginx\" in 2.827597987s\n"
     ]
    }
   ],
   "source": [
    "! oc describe pod $POD"
   ]
  },
  {
   "cell_type": "code",
   "execution_count": 64,
   "id": "ee48e04c-f774-4004-808b-bc2d235fd459",
   "metadata": {},
   "outputs": [
    {
     "name": "stdout",
     "output_type": "stream",
     "text": [
      "/docker-entrypoint.sh: /docker-entrypoint.d/ is not empty, will attempt to perform configuration\n",
      "/docker-entrypoint.sh: Looking for shell scripts in /docker-entrypoint.d/\n",
      "/docker-entrypoint.sh: Launching /docker-entrypoint.d/10-listen-on-ipv6-by-default.sh\n",
      "10-listen-on-ipv6-by-default.sh: info: can not modify /etc/nginx/conf.d/default.conf (read-only file system?)\n",
      "/docker-entrypoint.sh: Launching /docker-entrypoint.d/20-envsubst-on-templates.sh\n",
      "/docker-entrypoint.sh: Launching /docker-entrypoint.d/30-tune-worker-processes.sh\n",
      "/docker-entrypoint.sh: Configuration complete; ready for start up\n",
      "nginx: [alert] could not open error log file: open() \"/var/log/nginx/error.log\" failed (2: No such file or directory)\n",
      "2021/12/08 19:31:15 [warn] 1#1: the \"user\" directive makes sense only if the master process runs with super-user privileges, ignored in /etc/nginx/nginx.conf:2\n",
      "2021/12/08 19:31:15 [emerg] 1#1: mkdir() \"/var/cache/nginx/client_temp\" failed (2: No such file or directory)\n"
     ]
    }
   ],
   "source": [
    "! oc logs $POD"
   ]
  },
  {
   "cell_type": "code",
   "execution_count": 32,
   "id": "c7d1aaf0-01cb-4b9e-a7d4-01573c066443",
   "metadata": {},
   "outputs": [
    {
     "name": "stdout",
     "output_type": "stream",
     "text": [
      "NAME                         READY   STATUS             RESTARTS      AGE\n",
      "pod/g2048-69c94c6c46-84cfl   0/1     CrashLoopBackOff   3 (17s ago)   86s\n",
      "\n",
      "NAME                    TYPE           CLUSTER-IP       EXTERNAL-IP                                                                    PORT(S)        AGE\n",
      "service/g2048-service   LoadBalancer   172.30.192.228   a3cdc5a6d24284295850b33f25f2d6bc-2035002115.ap-northeast-1.elb.amazonaws.com   80:30000/TCP   86s\n",
      "\n",
      "NAME                    READY   UP-TO-DATE   AVAILABLE   AGE\n",
      "deployment.apps/g2048   0/1     1            0           87s\n",
      "\n",
      "NAME                               DESIRED   CURRENT   READY   AGE\n",
      "replicaset.apps/g2048-69c94c6c46   1         1         0       87s\n",
      "\n",
      "NAME                                   HOST/PORT                                                       PATH   SERVICES        PORT    TERMINATION   WILDCARD\n",
      "route.route.openshift.io/g2048-route   g2048-route-g2048.apps.id43-cluster.jg1z.p1.openshiftapps.com          g2048-service   <all>                 None\n"
     ]
    }
   ],
   "source": [
    "! oc get all"
   ]
  },
  {
   "cell_type": "code",
   "execution_count": 57,
   "id": "0dce1928-78a7-4cd5-aed7-095e521428bf",
   "metadata": {},
   "outputs": [
    {
     "name": "stdout",
     "output_type": "stream",
     "text": [
      "persistentvolumeclaim \"g2048-pvc\" deleted\n",
      "deployment.apps \"g2048\" deleted\n",
      "route.route.openshift.io \"g2048-route\" deleted\n",
      "Error from server (NotFound): error when deleting \"g2048.yaml\": services \"g2048-service\" not found\n"
     ]
    }
   ],
   "source": [
    "! oc delete -f g2048.yaml"
   ]
  },
  {
   "cell_type": "code",
   "execution_count": null,
   "id": "831c1dd1-5824-4bf9-ac2a-03a39a126ec3",
   "metadata": {},
   "outputs": [],
   "source": []
  }
 ],
 "metadata": {
  "kernelspec": {
   "display_name": "Python 3 (ipykernel)",
   "language": "python",
   "name": "python3"
  },
  "language_info": {
   "codemirror_mode": {
    "name": "ipython",
    "version": 3
   },
   "file_extension": ".py",
   "mimetype": "text/x-python",
   "name": "python",
   "nbconvert_exporter": "python",
   "pygments_lexer": "ipython3",
   "version": "3.6.8"
  }
 },
 "nbformat": 4,
 "nbformat_minor": 5
}
